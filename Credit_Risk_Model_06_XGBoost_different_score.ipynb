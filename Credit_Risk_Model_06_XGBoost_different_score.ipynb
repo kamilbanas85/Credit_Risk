{
 "cells": [
  {
   "cell_type": "code",
   "execution_count": 1,
   "id": "99affca2",
   "metadata": {},
   "outputs": [],
   "source": [
    "import numpy as np\n",
    "import pandas as pd\n",
    "import os\n",
    "\n",
    "import matplotlib.pyplot as plt\n",
    "import seaborn as sns\n",
    "\n",
    "from sklearn.model_selection import train_test_split, RandomizedSearchCV\n",
    "from sklearn.linear_model import LogisticRegression\n",
    "from sklearn.neighbors import KNeighborsClassifier\n",
    "from sklearn.tree import DecisionTreeClassifier\n",
    "from sklearn.ensemble import AdaBoostClassifier, VotingClassifier\n",
    "import xgboost as xgb\n",
    "from sklearn import svm\n",
    "from sklearn.pipeline import make_pipeline\n",
    "\n",
    "from sklearn.metrics import confusion_matrix, classification_report, ConfusionMatrixDisplay, roc_curve, roc_auc_score\n",
    "from sklearn.calibration import calibration_curve\n",
    "from sklearn.preprocessing import StandardScaler, LabelEncoder"
   ]
  },
  {
   "cell_type": "code",
   "execution_count": 2,
   "id": "def5d02a",
   "metadata": {},
   "outputs": [],
   "source": [
    "def plot_confusion_matrix(y_test, y_hat, model, class_names):\n",
    "    cm = confusion_matrix(y_test, y_hat, labels=model.classes_)\n",
    "    disp = ConfusionMatrixDisplay(confusion_matrix=cm,\n",
    "                                  display_labels=class_names)\n",
    "    disp.plot()\n",
    "    plt.rcParams[\"font.size\"] = \"11\"\n",
    "    plt.xlabel('Predicted label', fontsize=14)\n",
    "    plt.ylabel('True label', fontsize=14)\n",
    "    plt.show()"
   ]
  },
  {
   "cell_type": "code",
   "execution_count": 3,
   "id": "36d5debf",
   "metadata": {},
   "outputs": [],
   "source": [
    "# Set up folder with data:\n",
    "os.chdir('D:\\\\00_PROJECTS_sripts_code\\\\Credit_Risk')"
   ]
  },
  {
   "cell_type": "code",
   "execution_count": 4,
   "id": "481c0740",
   "metadata": {},
   "outputs": [],
   "source": [
    "###################\n",
    "#%% Read data\n",
    "###################"
   ]
  },
  {
   "cell_type": "code",
   "execution_count": 5,
   "id": "556bcbdd",
   "metadata": {},
   "outputs": [],
   "source": [
    "analysis_data = pd.read_csv('analysis_data.csv')                          "
   ]
  },
  {
   "cell_type": "code",
   "execution_count": 6,
   "id": "940693a2",
   "metadata": {},
   "outputs": [],
   "source": [
    "### Select all numerical and string variables:\n",
    "numeric_columns = analysis_data.select_dtypes(exclude=['object']).columns\n",
    "categorical_columns = analysis_data.select_dtypes(include=['object']).columns"
   ]
  },
  {
   "cell_type": "code",
   "execution_count": 7,
   "id": "f63552f0",
   "metadata": {},
   "outputs": [],
   "source": [
    "##########################################################\n",
    "##########################################################\n",
    "#%% Analysis data - prepare for analysis\n",
    "##########################################################\n",
    "##########################################################"
   ]
  },
  {
   "cell_type": "code",
   "execution_count": 8,
   "id": "eda62105",
   "metadata": {},
   "outputs": [],
   "source": [
    "##########################################################\n",
    "#%% Label encoding the non-numeric columns"
   ]
  },
  {
   "cell_type": "code",
   "execution_count": 9,
   "id": "69c2429a",
   "metadata": {},
   "outputs": [
    {
     "name": "stdout",
     "output_type": "stream",
     "text": [
      "Index(['person_age', 'person_income', 'person_home_ownership',\n",
      "       'person_emp_length', 'loan_intent', 'loan_grade', 'loan_amnt',\n",
      "       'loan_int_rate', 'loan_status', 'loan_percent_income',\n",
      "       'cb_person_default_on_file', 'cb_person_cred_hist_length'],\n",
      "      dtype='object')\n"
     ]
    }
   ],
   "source": [
    "labelencoder = LabelEncoder()\n",
    "\n",
    "# apply \"le.fit_transform\"\n",
    "analysis_data = analysis_data.apply(labelencoder.fit_transform)\n",
    "print(analysis_data.columns)"
   ]
  },
  {
   "cell_type": "code",
   "execution_count": 10,
   "id": "34377f84",
   "metadata": {},
   "outputs": [],
   "source": [
    "##########################################################\n",
    "#%% Train-Test Set"
   ]
  },
  {
   "cell_type": "code",
   "execution_count": 11,
   "id": "f68b7130",
   "metadata": {},
   "outputs": [],
   "source": [
    "X = analysis_data.drop('loan_status', axis=1)\n",
    "y = analysis_data[['loan_status']]\n",
    "\n",
    "X_train, X_test, y_train, y_test = train_test_split(X, y, test_size=0.2, stratify=y)\n",
    "# stratify=y garantie the same 'y' distribution"
   ]
  },
  {
   "cell_type": "code",
   "execution_count": 12,
   "id": "4258662c",
   "metadata": {},
   "outputs": [],
   "source": [
    "##########################################################\n",
    "#%% Undersampling training data"
   ]
  },
  {
   "cell_type": "code",
   "execution_count": 13,
   "id": "656a7e61",
   "metadata": {},
   "outputs": [],
   "source": [
    "def Undersampling_Data(X_tr, y_tr, y_name):\n",
    "    \n",
    "    X_y_train = pd.concat([X_tr.reset_index(drop = True),\n",
    "                           y_tr.reset_index(drop = True)], axis = 1)\n",
    "    \n",
    "    count_nondefault, count_default = X_y_train[y_name].value_counts()\n",
    "    #print(count_nondefault, count_default)\n",
    "\n",
    "    # Create data sets for defaults and non-defaults\n",
    "    nondefaults = X_y_train.query(f'{y_name} == 0')\n",
    "    defaults = X_y_train.query(f'{y_name} == 1')\n",
    "\n",
    "\n",
    "    # Undersample the non-defaults\n",
    "    nondefaults_under = nondefaults.sample(count_default)\n",
    "\n",
    "    # Concatenate the undersampled nondefaults with defaults\n",
    "    X_y_train_under = pd.concat([nondefaults_under.reset_index(drop=True), defaults.reset_index(drop=True)], axis = 0)\n",
    "\n",
    "    # Print the value counts for loan status\n",
    "    #print(X_y_train_under['loan_status'].value_counts())\n",
    "\n",
    "    X_train_resampled = X_y_train_under.drop(y_name, axis=1)\n",
    "    y_train_resampled  = X_y_train_under[[y_name]]\n",
    "    \n",
    "    return X_train_resampled, y_train_resampled"
   ]
  },
  {
   "cell_type": "code",
   "execution_count": 14,
   "id": "f4b7b12d",
   "metadata": {},
   "outputs": [],
   "source": [
    "# Undersampe\n",
    "X_train, y_train = Undersampling_Data(X_train, y_train, 'loan_status')"
   ]
  },
  {
   "cell_type": "code",
   "execution_count": 15,
   "id": "6565a652",
   "metadata": {},
   "outputs": [],
   "source": [
    "##########################################################\n",
    "##########################################################\n",
    "#%% XGBoost with label encoding, undersample and auc_roc \n",
    "##########################################################\n",
    "##########################################################"
   ]
  },
  {
   "cell_type": "code",
   "execution_count": 16,
   "id": "9cd2a9ed",
   "metadata": {},
   "outputs": [
    {
     "name": "stdout",
     "output_type": "stream",
     "text": [
      "Fitting 5 folds for each of 100 candidates, totalling 500 fits\n",
      "Best parameters found:  {'subsample': 1.0, 'reg_lambda': 0.3, 'n_estimators': 500, 'min_child_weight': 3, 'max_depth': 7, 'learning_rate': 0.05, 'gamma': 2.5, 'colsample_bytree': 0.5}\n"
     ]
    }
   ],
   "source": [
    "# Define parameters set\n",
    "xgboost_param_grid = {\n",
    "                  'n_estimators': [  200, 250,  300, 350, 400, 450, 500],\n",
    "                  'max_depth': range(2, 9),\n",
    "                  'subsample': [0.6, 0.7, 0.8, 0.9, 1.0],\n",
    "                  'colsample_bytree': [0.3, 0.5, 0.7, 0.9, 1.0],\n",
    "                  'learning_rate': [ 0.01, 0.05, 0.1, 0.3, 0.5, 0.7],\n",
    "                  'gamma': [0, 0.25, 0.5, 1.0, 1.5, 2.0, 2.5],\n",
    "                  'reg_lambda': [0.01, 0.05, 0.1, 0.3, 0.5, 0.75, 1.0],\n",
    "                  'min_child_weight':[0.01, 0.05, 0.1, 1, 3]\n",
    "                 }\n",
    "\n",
    "# Instantiate model\n",
    "model_xgboost_init = xgb.XGBClassifier()\n",
    "\n",
    "## in case of GridSeach:  param_grid no param_distributions\n",
    "\n",
    "# Perform random search with CV for time series\n",
    "\n",
    "# roc_auc, recall, f1_macro\n",
    "model_xgboost_random_search = RandomizedSearchCV(param_distributions = xgboost_param_grid,\n",
    "                                                  estimator = model_xgboost_init,\n",
    "                                                  scoring = 'roc_auc',\n",
    "                                                  n_iter = 100,\n",
    "                                                  cv = 5,\n",
    "                                                  verbose=1,\n",
    "                                                  n_jobs=-1)\n",
    "\n",
    "## in case of GridSeach:  param_grid no param_distributions\n",
    "\n",
    "# Fit randomized_mse to the data\n",
    "model_xgboost_random_search.fit(X_train, np.ravel(y_train))\n",
    "\n",
    "# Print the best parameters\n",
    "print(\"Best parameters found: \", model_xgboost_random_search.best_params_)"
   ]
  },
  {
   "cell_type": "code",
   "execution_count": 17,
   "id": "65a427b9",
   "metadata": {},
   "outputs": [],
   "source": [
    "# Extract the best model\n",
    "model_xgboost = model_xgboost_random_search.best_estimator_"
   ]
  },
  {
   "cell_type": "code",
   "execution_count": 18,
   "id": "5cf01d77",
   "metadata": {},
   "outputs": [],
   "source": [
    "##########################################################\n",
    "#%% Test set - model evaluation\n",
    "##########################################################"
   ]
  },
  {
   "cell_type": "code",
   "execution_count": 19,
   "id": "782365ce",
   "metadata": {},
   "outputs": [],
   "source": [
    "preds_proba_xgboost = model_xgboost.predict_proba(X_test)"
   ]
  },
  {
   "cell_type": "code",
   "execution_count": 20,
   "id": "f5ec4e3e",
   "metadata": {},
   "outputs": [
    {
     "name": "stdout",
     "output_type": "stream",
     "text": [
      "              precision    recall  f1-score   support\n",
      "\n",
      " Non-Default       0.95      0.92      0.94      4971\n",
      "     Default       0.75      0.83      0.79      1365\n",
      "\n",
      "    accuracy                           0.90      6336\n",
      "   macro avg       0.85      0.88      0.86      6336\n",
      "weighted avg       0.91      0.90      0.91      6336\n",
      "\n",
      "\n",
      "AUC score:   0.951\n",
      "\n",
      "Confusion Matrix:\n"
     ]
    },
    {
     "data": {
      "image/png": "[encoded data removed]",
      "text/plain": [
       "<Figure size 432x288 with 2 Axes>"
      ]
     },
     "metadata": {
      "needs_background": "light"
     },
     "output_type": "display_data"
    }
   ],
   "source": [
    "# Create a dataframe for the probabilities of default\n",
    "preds_df_xgboost = pd.DataFrame(preds_proba_xgboost[:,1], columns = ['prob_default'])\n",
    "\n",
    "# Reassign loan status based on the threshold\n",
    "preds_df_xgboost['loan_status'] = preds_df_xgboost['prob_default'].apply(lambda x: 1 if x > 0.5 else 0)\n",
    "\n",
    "# Print the classification report\n",
    "target_names = ['Non-Default', 'Default']\n",
    "print(classification_report(y_test, preds_df_xgboost['loan_status'], target_names=target_names))\n",
    "\n",
    "### AUC score\n",
    "print('')\n",
    "print('AUC score:   ' + str(round(roc_auc_score(y_test, preds_df_xgboost['prob_default']), 3) ) )\n",
    "\n",
    "### Confusion Matrix\n",
    "print('')\n",
    "print('Confusion Matrix:')\n",
    "plot_confusion_matrix(y_test, preds_df_xgboost['loan_status'], model_xgboost, target_names)"
   ]
  },
  {
   "cell_type": "code",
   "execution_count": 21,
   "id": "4802e9f1",
   "metadata": {},
   "outputs": [],
   "source": [
    "##########################################################\n",
    "##########################################################\n",
    "#%% XGBoost with label encoding, undersampling and f1\n",
    "##########################################################\n",
    "##########################################################"
   ]
  },
  {
   "cell_type": "code",
   "execution_count": 22,
   "id": "82ba1c37",
   "metadata": {},
   "outputs": [
    {
     "name": "stdout",
     "output_type": "stream",
     "text": [
      "Fitting 5 folds for each of 100 candidates, totalling 500 fits\n",
      "Best parameters found:  {'subsample': 0.9, 'reg_lambda': 1.0, 'n_estimators': 500, 'min_child_weight': 0.05, 'max_depth': 7, 'learning_rate': 0.1, 'gamma': 2.5, 'colsample_bytree': 0.3}\n"
     ]
    }
   ],
   "source": [
    "model_xgboost_init_f1 = xgb.XGBClassifier()\n",
    "\n",
    "model_xgboost_random_search_f1 = RandomizedSearchCV(param_distributions = xgboost_param_grid,\n",
    "                                                       estimator = model_xgboost_init_f1,\n",
    "                                                       scoring = 'f1_macro',\n",
    "                                                       n_iter = 100,\n",
    "                                                       cv = 5,\n",
    "                                                       verbose=1,\n",
    "                                                       n_jobs=-1)\n",
    "\n",
    "## in case of GridSeach:  param_grid no param_distributions\n",
    "\n",
    "# Fit randomized_mse to the data\n",
    "model_xgboost_random_search_f1.fit(X_train, np.ravel(y_train))\n",
    "\n",
    "# Print the best parameters\n",
    "print(\"Best parameters found: \", model_xgboost_random_search_f1.best_params_)"
   ]
  },
  {
   "cell_type": "code",
   "execution_count": 23,
   "id": "f5e38936",
   "metadata": {},
   "outputs": [],
   "source": [
    "# Extract the best model\n",
    "model_xgboost_f1 = model_xgboost_random_search_f1.best_estimator_"
   ]
  },
  {
   "cell_type": "code",
   "execution_count": 24,
   "id": "4a89e2ae",
   "metadata": {},
   "outputs": [],
   "source": [
    "##########################################################\n",
    "#%% Test set - model evaluation\n",
    "##########################################################"
   ]
  },
  {
   "cell_type": "code",
   "execution_count": 25,
   "id": "be2a7784",
   "metadata": {},
   "outputs": [],
   "source": [
    "preds_proba_xgboost_f1 = model_xgboost_f1.predict_proba(X_test)"
   ]
  },
  {
   "cell_type": "code",
   "execution_count": 26,
   "id": "0b0b13c8",
   "metadata": {},
   "outputs": [
    {
     "name": "stdout",
     "output_type": "stream",
     "text": [
      "              precision    recall  f1-score   support\n",
      "\n",
      " Non-Default       0.95      0.91      0.93      4971\n",
      "     Default       0.72      0.84      0.78      1365\n",
      "\n",
      "    accuracy                           0.90      6336\n",
      "   macro avg       0.84      0.88      0.85      6336\n",
      "weighted avg       0.90      0.90      0.90      6336\n",
      "\n",
      "\n",
      "AUC score:   0.949\n",
      "\n",
      "Confusion Matrix:\n"
     ]
    },
    {
     "data": {
      "image/png": "[encoded data removed]",
      "text/plain": [
       "<Figure size 432x288 with 2 Axes>"
      ]
     },
     "metadata": {
      "needs_background": "light"
     },
     "output_type": "display_data"
    }
   ],
   "source": [
    "# Create a dataframe for the probabilities of default\n",
    "preds_df_xgboost_f1  = pd.DataFrame(preds_proba_xgboost_f1[:,1], columns = ['prob_default'])\n",
    "\n",
    "# Reassign loan status based on the threshold\n",
    "preds_df_xgboost_f1['loan_status'] = preds_df_xgboost_f1['prob_default'].apply(lambda x: 1 if x > 0.5 else 0)\n",
    "\n",
    "# Print the classification report\n",
    "target_names = ['Non-Default', 'Default']\n",
    "print(classification_report(y_test, preds_df_xgboost_f1['loan_status'], target_names=target_names))\n",
    "\n",
    "### AUC score\n",
    "print('')\n",
    "print('AUC score:   ' + str(round(roc_auc_score(y_test, preds_df_xgboost_f1['prob_default']), 3) ) )\n",
    "\n",
    "### Confusion Matrix\n",
    "print('')\n",
    "print('Confusion Matrix:')\n",
    "plot_confusion_matrix(y_test, preds_df_xgboost_f1['loan_status'], model_xgboost_f1, target_names)"
   ]
  },
  {
   "cell_type": "code",
   "execution_count": 27,
   "id": "a341a881",
   "metadata": {},
   "outputs": [],
   "source": [
    "##########################################################\n",
    "##########################################################\n",
    "#%% XGBoost with label encoding, undersampling and recall\n",
    "##########################################################\n",
    "##########################################################"
   ]
  },
  {
   "cell_type": "code",
   "execution_count": 28,
   "id": "8afe41ba",
   "metadata": {},
   "outputs": [
    {
     "name": "stdout",
     "output_type": "stream",
     "text": [
      "Fitting 5 folds for each of 100 candidates, totalling 500 fits\n",
      "Best parameters found:  {'subsample': 0.9, 'reg_lambda': 0.3, 'n_estimators': 450, 'min_child_weight': 1, 'max_depth': 7, 'learning_rate': 0.7, 'gamma': 2.5, 'colsample_bytree': 0.3}\n"
     ]
    }
   ],
   "source": [
    "model_xgboost_init_recall = xgb.XGBClassifier()\n",
    "\n",
    "\n",
    "model_xgboost_random_search_recall = RandomizedSearchCV(param_distributions = xgboost_param_grid,\n",
    "                                                       estimator = model_xgboost_init_recall,\n",
    "                                                       scoring = 'recall',\n",
    "                                                       n_iter = 100,\n",
    "                                                       cv = 5,\n",
    "                                                       verbose=1,\n",
    "                                                       n_jobs=-1)\n",
    "\n",
    "## in case of GridSeach:  param_grid no param_distributions\n",
    "\n",
    "# Fit randomized_mse to the data\n",
    "model_xgboost_random_search_recall.fit(X_train, np.ravel(y_train))\n",
    "\n",
    "# Print the best parameters\n",
    "print(\"Best parameters found: \", model_xgboost_random_search_recall.best_params_)"
   ]
  },
  {
   "cell_type": "code",
   "execution_count": 29,
   "id": "3c713d07",
   "metadata": {},
   "outputs": [],
   "source": [
    "# Extract the best model\n",
    "model_xgboost_recall = model_xgboost_random_search_recall.best_estimator_"
   ]
  },
  {
   "cell_type": "code",
   "execution_count": 30,
   "id": "38b4bf9f",
   "metadata": {},
   "outputs": [],
   "source": [
    "##########################################################\n",
    "#%% Test set - model evaluation\n",
    "##########################################################"
   ]
  },
  {
   "cell_type": "code",
   "execution_count": 31,
   "id": "00f39058",
   "metadata": {},
   "outputs": [],
   "source": [
    "preds_proba_xgboost_recall = model_xgboost_recall.predict_proba(X_test)"
   ]
  },
  {
   "cell_type": "code",
   "execution_count": 32,
   "id": "0adda57c",
   "metadata": {},
   "outputs": [
    {
     "name": "stdout",
     "output_type": "stream",
     "text": [
      "              precision    recall  f1-score   support\n",
      "\n",
      " Non-Default       0.95      0.88      0.91      4971\n",
      "     Default       0.66      0.85      0.74      1365\n",
      "\n",
      "    accuracy                           0.87      6336\n",
      "   macro avg       0.81      0.86      0.83      6336\n",
      "weighted avg       0.89      0.87      0.88      6336\n",
      "\n",
      "\n",
      "AUC score:   0.941\n",
      "\n",
      "Confusion Matrix:\n"
     ]
    },
    {
     "data": {
      "image/png": "[encoded data removed]",
      "text/plain": [
       "<Figure size 432x288 with 2 Axes>"
      ]
     },
     "metadata": {
      "needs_background": "light"
     },
     "output_type": "display_data"
    }
   ],
   "source": [
    "# Create a dataframe for the probabilities of default\n",
    "preds_df_xgboost_recall  = pd.DataFrame(preds_proba_xgboost_recall[:,1], columns = ['prob_default'])\n",
    "\n",
    "# Reassign loan status based on the threshold\n",
    "preds_df_xgboost_recall['loan_status'] = preds_df_xgboost_recall['prob_default'].apply(lambda x: 1 if x > 0.5 else 0)\n",
    "\n",
    "# Print the classification report\n",
    "target_names = ['Non-Default', 'Default']\n",
    "print(classification_report(y_test, preds_df_xgboost_recall['loan_status'], target_names=target_names))\n",
    "\n",
    "### AUC score\n",
    "print('')\n",
    "print('AUC score:   ' + str(round(roc_auc_score(y_test, preds_df_xgboost_recall['prob_default']), 3) ) )\n",
    "\n",
    "### Confusion Matrix\n",
    "print('')\n",
    "print('Confusion Matrix:')\n",
    "plot_confusion_matrix(y_test, preds_df_xgboost_recall['loan_status'], model_xgboost_recall, target_names)"
   ]
  },
  {
   "cell_type": "code",
   "execution_count": 33,
   "id": "cf12edcf",
   "metadata": {},
   "outputs": [],
   "source": [
    "##########################################################\n",
    "##########################################################\n",
    "#%% XGBoost with label encoding, undersampling and balanced_accuracy\n",
    "##########################################################\n",
    "##########################################################"
   ]
  },
  {
   "cell_type": "code",
   "execution_count": 34,
   "id": "b8b538d2",
   "metadata": {},
   "outputs": [
    {
     "name": "stdout",
     "output_type": "stream",
     "text": [
      "Fitting 5 folds for each of 100 candidates, totalling 500 fits\n",
      "Best parameters found:  {'subsample': 0.9, 'reg_lambda': 1.0, 'n_estimators': 500, 'min_child_weight': 0.01, 'max_depth': 6, 'learning_rate': 0.05, 'gamma': 2.5, 'colsample_bytree': 0.9}\n"
     ]
    }
   ],
   "source": [
    "model_xgboost_init_acu = xgb.XGBClassifier()\n",
    "\n",
    "model_xgboost_random_search_acu = RandomizedSearchCV(param_distributions = xgboost_param_grid,\n",
    "                                                       estimator = model_xgboost_init_acu,\n",
    "                                                       scoring = 'balanced_accuracy',\n",
    "                                                       n_iter = 100,\n",
    "                                                       cv = 5,\n",
    "                                                       verbose=1,\n",
    "                                                       n_jobs=-1)\n",
    "\n",
    "## in case of GridSeach:  param_grid no param_distributions\n",
    "\n",
    "# Fit randomized_mse to the data\n",
    "model_xgboost_random_search_acu.fit(X_train, np.ravel(y_train))\n",
    "\n",
    "# Print the best parameters\n",
    "print(\"Best parameters found: \", model_xgboost_random_search_acu.best_params_)"
   ]
  },
  {
   "cell_type": "code",
   "execution_count": 35,
   "id": "1d55427e",
   "metadata": {},
   "outputs": [],
   "source": [
    "# Extract the best model\n",
    "model_xgboost_acu = model_xgboost_random_search_acu.best_estimator_"
   ]
  },
  {
   "cell_type": "code",
   "execution_count": 36,
   "id": "f44aeb3c",
   "metadata": {},
   "outputs": [],
   "source": [
    "##########################################################\n",
    "#%% Test set - model evaluation\n",
    "##########################################################"
   ]
  },
  {
   "cell_type": "code",
   "execution_count": 37,
   "id": "89a20ef8",
   "metadata": {},
   "outputs": [],
   "source": [
    "preds_proba_xgboost_acu = model_xgboost_acu.predict_proba(X_test)"
   ]
  },
  {
   "cell_type": "code",
   "execution_count": 38,
   "id": "d2d8d6d2",
   "metadata": {},
   "outputs": [
    {
     "name": "stdout",
     "output_type": "stream",
     "text": [
      "              precision    recall  f1-score   support\n",
      "\n",
      " Non-Default       0.95      0.93      0.94      4971\n",
      "     Default       0.76      0.83      0.79      1365\n",
      "\n",
      "    accuracy                           0.91      6336\n",
      "   macro avg       0.86      0.88      0.87      6336\n",
      "weighted avg       0.91      0.91      0.91      6336\n",
      "\n",
      "\n",
      "AUC score:   0.951\n",
      "\n",
      "Confusion Matrix:\n"
     ]
    },
    {
     "data": {
      "image/png": "[encoded data removed]",
      "text/plain": [
       "<Figure size 432x288 with 2 Axes>"
      ]
     },
     "metadata": {
      "needs_background": "light"
     },
     "output_type": "display_data"
    }
   ],
   "source": [
    "# Create a dataframe for the probabilities of default\n",
    "preds_df_xgboost_acu  = pd.DataFrame(preds_proba_xgboost_acu[:,1], columns = ['prob_default'])\n",
    "\n",
    "# Reassign loan status based on the threshold\n",
    "preds_df_xgboost_acu['loan_status'] = preds_df_xgboost_acu['prob_default'].apply(lambda x: 1 if x > 0.5 else 0)\n",
    "\n",
    "# Print the classification report\n",
    "target_names = ['Non-Default', 'Default']\n",
    "print(classification_report(y_test, preds_df_xgboost_acu['loan_status'], target_names=target_names))\n",
    "\n",
    "### AUC score\n",
    "print('')\n",
    "print('AUC score:   ' + str(round(roc_auc_score(y_test, preds_df_xgboost_acu['prob_default']), 3) ) )\n",
    "\n",
    "### Confusion Matrix\n",
    "print('')\n",
    "print('Confusion Matrix:')\n",
    "plot_confusion_matrix(y_test, preds_df_xgboost_acu['loan_status'], model_xgboost_acu, target_names)"
   ]
  },
  {
   "cell_type": "code",
   "execution_count": 39,
   "id": "532ebe85",
   "metadata": {},
   "outputs": [],
   "source": [
    "##########################################################\n",
    "##########################################################\n",
    "#%% COMPARE MODELS\n",
    "##########################################################\n",
    "##########################################################"
   ]
  },
  {
   "cell_type": "code",
   "execution_count": 40,
   "id": "a7bddcd4",
   "metadata": {},
   "outputs": [
    {
     "data": {
      "image/png": "[encoded data removed]",
      "text/plain": [
       "<Figure size 432x288 with 1 Axes>"
      ]
     },
     "metadata": {
      "needs_background": "light"
     },
     "output_type": "display_data"
    }
   ],
   "source": [
    "# ROC chart components\n",
    "fallout_xgboost, sensitivity_xgboost, thresholds_xgboost = roc_curve(y_test, preds_df_xgboost['prob_default'])\n",
    "fallout_xgboost_f1, sensitivity_xgboost_f1, thresholds_xgboost_f1 = roc_curve(y_test, preds_df_xgboost_f1['prob_default'])\n",
    "fallout_xgboost_recall, sensitivity_xgboost_recall, thresholds_xgboost_recall = roc_curve(y_test, preds_df_xgboost_recall['prob_default'])\n",
    "fallout_xgboost_acu, sensitivity_xgboost_acu, thresholds_xgboost_acu = roc_curve(y_test, preds_df_xgboost_acu['prob_default'])\n",
    "\n",
    "\n",
    "\n",
    "# ROC Chart with both\n",
    "plt.plot(fallout_xgboost, sensitivity_xgboost, color = 'yellow', label='%s' % 'XGBoost - acu-roc')\n",
    "plt.plot(fallout_xgboost_f1, sensitivity_xgboost_f1, color = 'grey', label='%s' % 'XGBoost - f1')\n",
    "plt.plot(fallout_xgboost_recall, sensitivity_xgboost_recall, color = 'red', label='%s' % 'XGBoost - recall')\n",
    "plt.plot(fallout_xgboost_acu, sensitivity_xgboost_acu, color = 'blue', label='%s' % 'XGBoost - balanced_accuracys')\n",
    "\n",
    "\n",
    "plt.plot([0, 1], [0, 1], linestyle='--', label='%s' % 'Random Prediction')\n",
    "plt.title(\"ROC Chart on the Probability of Default\")\n",
    "plt.xlabel('Fall-out')\n",
    "plt.ylabel('Sensitivity')\n",
    "plt.legend()\n",
    "plt.show()"
   ]
  },
  {
   "cell_type": "code",
   "execution_count": 41,
   "id": "ab538dd0",
   "metadata": {},
   "outputs": [],
   "source": [
    "# Calibration curve"
   ]
  },
  {
   "cell_type": "code",
   "execution_count": 42,
   "id": "7e57ee71",
   "metadata": {},
   "outputs": [
    {
     "data": {
      "image/png": "[encoded data removed]",
      "text/plain": [
       "<Figure size 432x288 with 1 Axes>"
      ]
     },
     "metadata": {
      "needs_background": "light"
     },
     "output_type": "display_data"
    }
   ],
   "source": [
    "frac_of_pos_xgboost, mean_pred_val_xgboost = calibration_curve(y_test, preds_df_xgboost['prob_default'], n_bins=20)\n",
    "frac_of_pos_xgboost_f1, mean_pred_val_xgboost_f1 = calibration_curve(y_test, preds_df_xgboost_f1['prob_default'], n_bins=20)\n",
    "frac_of_pos_xgboost_recall, mean_pred_val_xgboost_recall = calibration_curve(y_test, preds_df_xgboost_recall['prob_default'], n_bins=20)\n",
    "frac_of_pos_xgboost_acu, mean_pred_val_xgboost_acu = calibration_curve(y_test, preds_df_xgboost_acu['prob_default'], n_bins=20)\n",
    "\n",
    "\n",
    "plt.plot([0, 1], [0, 1], 'k:', label='Perfectly calibrated')    \n",
    "plt.plot(mean_pred_val_xgboost, frac_of_pos_xgboost, 's-', label='%s' % 'XGBoost - acur-roc')\n",
    "plt.plot(mean_pred_val_xgboost_f1, frac_of_pos_xgboost_f1, 's-', label='%s' % 'XGBoost - f1')\n",
    "plt.plot(mean_pred_val_xgboost_recall, frac_of_pos_xgboost_recall, 's-', label='%s' % 'XGBoost - recall')\n",
    "plt.plot(mean_pred_val_xgboost_acu, frac_of_pos_xgboost_acu, 's-', label='%s' % 'XGBoost - balanced_accuracy')\n",
    "\n",
    "\n",
    "\n",
    "plt.ylabel('Fraction of positives', fontsize=14)\n",
    "plt.xlabel('Average Predicted Probability', fontsize=14)\n",
    "plt.legend()\n",
    "plt.title('Calibration Curve', fontsize=16)\n",
    "plt.show()"
   ]
  }
 ],
 "metadata": {
  "kernelspec": {
   "display_name": "Python 3 (ipykernel)",
   "language": "python",
   "name": "python3"
  },
  "language_info": {
   "codemirror_mode": {
    "name": "ipython",
    "version": 3
   },
   "file_extension": ".py",
   "mimetype": "text/x-python",
   "name": "python",
   "nbconvert_exporter": "python",
   "pygments_lexer": "ipython3",
   "version": "3.8.8"
  }
 },
 "nbformat": 4,
 "nbformat_minor": 5
}
