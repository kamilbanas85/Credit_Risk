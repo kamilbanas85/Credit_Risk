{
 "cells": [
  {
   "cell_type": "code",
   "execution_count": 1,
   "id": "99affca2",
   "metadata": {},
   "outputs": [],
   "source": [
    "import numpy as np\n",
    "import pandas as pd\n",
    "import os\n",
    "\n",
    "import matplotlib.pyplot as plt\n",
    "import seaborn as sns\n",
    "\n",
    "from sklearn.model_selection import train_test_split, RandomizedSearchCV\n",
    "from sklearn.linear_model import LogisticRegression\n",
    "from sklearn.neighbors import KNeighborsClassifier\n",
    "from sklearn.tree import DecisionTreeClassifier\n",
    "from sklearn.ensemble import AdaBoostClassifier, VotingClassifier\n",
    "import xgboost as xgb\n",
    "from sklearn import svm\n",
    "from sklearn.pipeline import make_pipeline\n",
    "\n",
    "from sklearn.metrics import confusion_matrix, classification_report, ConfusionMatrixDisplay, roc_curve, roc_auc_score\n",
    "from sklearn.calibration import calibration_curve\n",
    "from sklearn.preprocessing import StandardScaler, LabelEncoder"
   ]
  },
  {
   "cell_type": "code",
   "execution_count": 2,
   "id": "def5d02a",
   "metadata": {},
   "outputs": [],
   "source": [
    "def plot_confusion_matrix(y_test, y_hat, model, class_names):\n",
    "    cm = confusion_matrix(y_test, y_hat, labels=model.classes_)\n",
    "    disp = ConfusionMatrixDisplay(confusion_matrix=cm,\n",
    "                                  display_labels=class_names)\n",
    "    disp.plot()\n",
    "    plt.rcParams[\"font.size\"] = \"11\"\n",
    "    plt.xlabel('Predicted label', fontsize=14)\n",
    "    plt.ylabel('True label', fontsize=14)\n",
    "    plt.show()"
   ]
  },
  {
   "cell_type": "code",
   "execution_count": 3,
   "id": "36d5debf",
   "metadata": {},
   "outputs": [],
   "source": [
    "# Set up folder with data:\n",
    "os.chdir('D:\\\\00_PROJECTS_sripts_code\\\\Credit_Risk')"
   ]
  },
  {
   "cell_type": "code",
   "execution_count": 4,
   "id": "481c0740",
   "metadata": {},
   "outputs": [],
   "source": [
    "###################\n",
    "#%% Read data\n",
    "###################"
   ]
  },
  {
   "cell_type": "code",
   "execution_count": 5,
   "id": "556bcbdd",
   "metadata": {},
   "outputs": [],
   "source": [
    "analysis_data = pd.read_csv('analysis_data.csv')                          "
   ]
  },
  {
   "cell_type": "code",
   "execution_count": 6,
   "id": "940693a2",
   "metadata": {},
   "outputs": [],
   "source": [
    "### Select all numerical and string variables:\n",
    "numeric_columns = analysis_data.select_dtypes(exclude=['object']).columns\n",
    "categorical_columns = analysis_data.select_dtypes(include=['object']).columns"
   ]
  },
  {
   "cell_type": "code",
   "execution_count": 7,
   "id": "f63552f0",
   "metadata": {},
   "outputs": [],
   "source": [
    "##########################################################\n",
    "##########################################################\n",
    "#%% Analysis data - prepare for analysis\n",
    "##########################################################\n",
    "##########################################################"
   ]
  },
  {
   "cell_type": "code",
   "execution_count": 10,
   "id": "eda62105",
   "metadata": {},
   "outputs": [],
   "source": [
    "##########################################################\n",
    "#%% Label encoding the non-numeric columns"
   ]
  },
  {
   "cell_type": "code",
   "execution_count": 11,
   "id": "69c2429a",
   "metadata": {},
   "outputs": [
    {
     "name": "stdout",
     "output_type": "stream",
     "text": [
      "Index(['person_age', 'person_income', 'person_home_ownership',\n",
      "       'person_emp_length', 'loan_intent', 'loan_grade', 'loan_amnt',\n",
      "       'loan_int_rate', 'loan_status', 'loan_percent_income',\n",
      "       'cb_person_default_on_file', 'cb_person_cred_hist_length'],\n",
      "      dtype='object')\n"
     ]
    }
   ],
   "source": [
    "labelencoder = LabelEncoder()\n",
    "\n",
    "# apply \"le.fit_transform\"\n",
    "analysis_data = analysis_data.apply(labelencoder.fit_transform)\n",
    "print(analysis_data.columns)"
   ]
  },
  {
   "cell_type": "code",
   "execution_count": 12,
   "id": "34377f84",
   "metadata": {},
   "outputs": [],
   "source": [
    "##########################################################\n",
    "#%% Train-Test Set"
   ]
  },
  {
   "cell_type": "code",
   "execution_count": 13,
   "id": "f68b7130",
   "metadata": {},
   "outputs": [],
   "source": [
    "X = analysis_data.drop('loan_status', axis=1)\n",
    "y = analysis_data[['loan_status']]\n",
    "\n",
    "X_train, X_test, y_train, y_test = train_test_split(X, y, test_size=0.2, stratify=y)\n",
    "# stratify=y garantie the same 'y' distribution"
   ]
  },
  {
   "cell_type": "code",
   "execution_count": 14,
   "id": "d45a9722",
   "metadata": {},
   "outputs": [],
   "source": [
    "##########################################################\n",
    "#%% Undersampling training data"
   ]
  },
  {
   "cell_type": "code",
   "execution_count": 15,
   "id": "8448858e",
   "metadata": {},
   "outputs": [],
   "source": [
    "X_y_train = pd.concat([X_train.reset_index(drop = True),\n",
    "                       y_train.reset_index(drop = True)], axis = 1)\n",
    "count_nondefault, count_default = X_y_train['loan_status'].value_counts()"
   ]
  },
  {
   "cell_type": "code",
   "execution_count": 16,
   "id": "64891def",
   "metadata": {},
   "outputs": [
    {
     "name": "stdout",
     "output_type": "stream",
     "text": [
      "19883 5460\n"
     ]
    }
   ],
   "source": [
    "print(count_nondefault, count_default)"
   ]
  },
  {
   "cell_type": "code",
   "execution_count": 17,
   "id": "d2a7f278",
   "metadata": {},
   "outputs": [
    {
     "name": "stdout",
     "output_type": "stream",
     "text": [
      "loan_status\n",
      "0    5460\n",
      "1    5460\n",
      "Name: count, dtype: int64\n"
     ]
    }
   ],
   "source": [
    "# Create data sets for defaults and non-defaults\n",
    "nondefaults = X_y_train.query('loan_status == 0')\n",
    "defaults = X_y_train.query('loan_status == 1')\n",
    "\n",
    "# Undersample the non-defaults\n",
    "nondefaults_under = nondefaults.sample(count_default)\n",
    "\n",
    "# Concatenate the undersampled nondefaults with defaults\n",
    "X_y_train_under = pd.concat([nondefaults_under.reset_index(drop=True), defaults.reset_index(drop=True)], axis = 0)\n",
    "\n",
    "# Print the value counts for loan status\n",
    "print(X_y_train_under['loan_status'].value_counts())"
   ]
  },
  {
   "cell_type": "code",
   "execution_count": 18,
   "id": "a084b073",
   "metadata": {},
   "outputs": [],
   "source": [
    "X_train = X_y_train_under.drop('loan_status', axis=1)\n",
    "y_train = X_y_train_under[['loan_status']]"
   ]
  },
  {
   "cell_type": "code",
   "execution_count": 19,
   "id": "bcf24d48",
   "metadata": {},
   "outputs": [],
   "source": [
    "##########################################################\n",
    "#%% scale data for some models"
   ]
  },
  {
   "cell_type": "code",
   "execution_count": 20,
   "id": "b4aec359",
   "metadata": {},
   "outputs": [],
   "source": [
    "X_train_sld = StandardScaler().fit(X_train).transform(X_train.astype(float))\n",
    "X_test_sld = StandardScaler().fit(X_test).transform(X_test.astype(float))"
   ]
  },
  {
   "cell_type": "code",
   "execution_count": 21,
   "id": "33b22f93",
   "metadata": {},
   "outputs": [],
   "source": [
    "##########################################################\n",
    "##########################################################\n",
    "#%% Logistic Regression\n",
    "##########################################################\n",
    "##########################################################"
   ]
  },
  {
   "cell_type": "code",
   "execution_count": 22,
   "id": "970088bc",
   "metadata": {},
   "outputs": [],
   "source": [
    "##########################################################\n",
    "#%% Train model - hyperparameter tunning\n",
    "##########################################################"
   ]
  },
  {
   "cell_type": "code",
   "execution_count": 23,
   "id": "9b77da81",
   "metadata": {},
   "outputs": [
    {
     "name": "stdout",
     "output_type": "stream",
     "text": [
      "Fitting 5 folds for each of 30 candidates, totalling 150 fits\n"
     ]
    },
    {
     "name": "stderr",
     "output_type": "stream",
     "text": [
      "C:\\Users\\kamil\\anaconda3\\lib\\site-packages\\sklearn\\model_selection\\_search.py:307: UserWarning: The total space of parameters 30 is smaller than n_iter=50. Running 30 iterations. For exhaustive searches, use GridSearchCV.\n",
      "  warnings.warn(\n"
     ]
    },
    {
     "name": "stdout",
     "output_type": "stream",
     "text": [
      "Best parameters found:  {'penalty': 'l2', 'C': 163789.3706954068}\n"
     ]
    }
   ],
   "source": [
    "# Define parameters set\n",
    "lr_param_grid = { 'C': np.logspace(-5, 8, 15)\n",
    "                 , 'penalty': ['l1', 'l2']\n",
    "                 }\n",
    "\n",
    "# Instantiate model\n",
    "model_lr_init = LogisticRegression(solver = 'liblinear')\n",
    "\n",
    "## in case of GridSeach:  param_grid no param_distributions\n",
    "\n",
    "# Perform random search with CV for time series\n",
    "\n",
    "#\n",
    "model_lr_random_search = RandomizedSearchCV(param_distributions = lr_param_grid,\n",
    "                                              estimator = model_lr_init,\n",
    "                                              scoring = 'roc_auc',\n",
    "                                              n_iter = 50,\n",
    "                                              cv = 5,\n",
    "                                              verbose=1,\n",
    "                                              n_jobs=None)\n",
    "\n",
    "## in case of GridSeach:  param_grid no param_distributions\n",
    "\n",
    "# Fit randomized_mse to the data\n",
    "model_lr_random_search.fit(X_train, np.ravel(y_train))\n",
    "\n",
    "# Print the best parameters\n",
    "print(\"Best parameters found: \", model_lr_random_search.best_params_)"
   ]
  },
  {
   "cell_type": "code",
   "execution_count": 24,
   "id": "ee2a8718",
   "metadata": {},
   "outputs": [],
   "source": [
    "# Extract the best model\n",
    "model_lr = model_lr_random_search.best_estimator_"
   ]
  },
  {
   "cell_type": "code",
   "execution_count": 25,
   "id": "c85912e0",
   "metadata": {},
   "outputs": [],
   "source": [
    "##########################################################\n",
    "#%% Test set - model evaluation\n",
    "##########################################################"
   ]
  },
  {
   "cell_type": "code",
   "execution_count": 26,
   "id": "d9c26bdf",
   "metadata": {},
   "outputs": [],
   "source": [
    "preds_proba_lr = model_lr.predict_proba(X_test)"
   ]
  },
  {
   "cell_type": "code",
   "execution_count": 27,
   "id": "a55437ec",
   "metadata": {},
   "outputs": [
    {
     "name": "stdout",
     "output_type": "stream",
     "text": [
      "              precision    recall  f1-score   support\n",
      "\n",
      " Non-Default       0.93      0.77      0.84      4971\n",
      "     Default       0.49      0.79      0.60      1365\n",
      "\n",
      "    accuracy                           0.77      6336\n",
      "   macro avg       0.71      0.78      0.72      6336\n",
      "weighted avg       0.83      0.77      0.79      6336\n",
      "\n",
      "\n",
      "AUC score:   0.862\n",
      "\n",
      "Confusion Matrix:\n"
     ]
    },
    {
     "data": {
      "image/png": "[encoded data removed]",
      "text/plain": [
       "<Figure size 432x288 with 2 Axes>"
      ]
     },
     "metadata": {
      "needs_background": "light"
     },
     "output_type": "display_data"
    }
   ],
   "source": [
    "# Create a dataframe for the probabilities of default\n",
    "preds_df_lr = pd.DataFrame(preds_proba_lr[:,1], columns = ['prob_default'])\n",
    "\n",
    "# Reassign loan status based on the threshold\n",
    "preds_df_lr['loan_status'] = preds_df_lr['prob_default'].apply(lambda x: 1 if x > 0.5 else 0)\n",
    "\n",
    "# Print the classification report\n",
    "target_names = ['Non-Default', 'Default']\n",
    "print(classification_report(y_test, preds_df_lr['loan_status'], target_names=target_names))\n",
    "\n",
    "### AUC score\n",
    "print('')\n",
    "print('AUC score:   ' + str(round(roc_auc_score(y_test, preds_df_lr['prob_default']), 3) ) )\n",
    "\n",
    "### Confusion Matrix\n",
    "print('')\n",
    "print('Confusion Matrix:')\n",
    "plot_confusion_matrix(y_test, preds_df_lr['loan_status'], model_lr, target_names)"
   ]
  },
  {
   "cell_type": "code",
   "execution_count": 28,
   "id": "570a4325",
   "metadata": {},
   "outputs": [],
   "source": [
    "##########################################################\n",
    "##########################################################\n",
    "#%% kNN\n",
    "##########################################################\n",
    "##########################################################"
   ]
  },
  {
   "cell_type": "code",
   "execution_count": 29,
   "id": "e171757f",
   "metadata": {},
   "outputs": [],
   "source": [
    "##########################################################\n",
    "#%% Train model - hyperparameter tunning\n",
    "##########################################################"
   ]
  },
  {
   "cell_type": "code",
   "execution_count": 30,
   "id": "fee930de",
   "metadata": {},
   "outputs": [
    {
     "name": "stdout",
     "output_type": "stream",
     "text": [
      "Fitting 5 folds for each of 50 candidates, totalling 250 fits\n",
      "Best parameters found:  {'weights': 'distance', 'n_neighbors': 37, 'metric': 'manhattan'}\n"
     ]
    }
   ],
   "source": [
    "# Define parameters set\n",
    "knn_param_grid = { 'n_neighbors' : [15,17,19,21, 23, 25, 27, 29, 31, 33, 35, 37],\n",
    "                   'weights' : ['uniform','distance'],\n",
    "                   'metric' : ['minkowski','euclidean','manhattan']}\n",
    "\n",
    "# Instantiate model\n",
    "model_knn_init = KNeighborsClassifier()\n",
    "\n",
    "## in case of GridSeach:  param_grid no param_distributions\n",
    "\n",
    "# Perform random search with CV for time series\n",
    "\n",
    "#\n",
    "model_knn_random_search = RandomizedSearchCV(param_distributions = knn_param_grid,\n",
    "                                              estimator = model_knn_init,\n",
    "                                              scoring = 'roc_auc',\n",
    "                                              n_iter = 50,\n",
    "                                              cv = 5,\n",
    "                                              verbose=1,\n",
    "                                              n_jobs=-1)\n",
    "\n",
    "## in case of GridSeach:  param_grid no param_distributions\n",
    "\n",
    "# Fit randomized_mse to the data\n",
    "model_knn_random_search.fit(X_train_sld, np.ravel(y_train))\n",
    "\n",
    "# Print the best parameters\n",
    "print(\"Best parameters found: \", model_knn_random_search.best_params_)"
   ]
  },
  {
   "cell_type": "code",
   "execution_count": 31,
   "id": "72e258dd",
   "metadata": {},
   "outputs": [],
   "source": [
    "# Extract the best model\n",
    "model_knn = model_knn_random_search.best_estimator_"
   ]
  },
  {
   "cell_type": "code",
   "execution_count": 32,
   "id": "8273191a",
   "metadata": {},
   "outputs": [],
   "source": [
    "##########################################################\n",
    "#%% Test set - model evaluation\n",
    "##########################################################"
   ]
  },
  {
   "cell_type": "code",
   "execution_count": 33,
   "id": "0fd71fa0",
   "metadata": {},
   "outputs": [],
   "source": [
    "preds_proba_knn = model_knn.predict_proba(X_test_sld)"
   ]
  },
  {
   "cell_type": "code",
   "execution_count": 34,
   "id": "fa77ce19",
   "metadata": {},
   "outputs": [
    {
     "name": "stdout",
     "output_type": "stream",
     "text": [
      "              precision    recall  f1-score   support\n",
      "\n",
      " Non-Default       0.95      0.71      0.81      4971\n",
      "     Default       0.45      0.86      0.59      1365\n",
      "\n",
      "    accuracy                           0.74      6336\n",
      "   macro avg       0.70      0.78      0.70      6336\n",
      "weighted avg       0.84      0.74      0.76      6336\n",
      "\n",
      "\n",
      "AUC score:   0.883\n",
      "\n",
      "Confusion Matrix:\n"
     ]
    },
    {
     "data": {
      "image/png": "[encoded data removed]",
      "text/plain": [
       "<Figure size 432x288 with 2 Axes>"
      ]
     },
     "metadata": {
      "needs_background": "light"
     },
     "output_type": "display_data"
    }
   ],
   "source": [
    "# Create a dataframe for the probabilities of default\n",
    "preds_df_knn = pd.DataFrame(preds_proba_knn[:,1], columns = ['prob_default'])\n",
    "\n",
    "# Reassign loan status based on the threshold\n",
    "preds_df_knn['loan_status'] = preds_df_knn['prob_default'].apply(lambda x: 1 if x > 0.5 else 0)\n",
    "\n",
    "# Print the classification report\n",
    "target_names = ['Non-Default', 'Default']\n",
    "print(classification_report(y_test, preds_df_knn['loan_status'], target_names=target_names))\n",
    "\n",
    "### AUC score\n",
    "print('')\n",
    "print('AUC score:   ' + str(round(roc_auc_score(y_test, preds_df_knn['prob_default']), 3) ) )\n",
    "\n",
    "### Confusion Matrix\n",
    "print('')\n",
    "print('Confusion Matrix:')\n",
    "plot_confusion_matrix(y_test, preds_df_knn['loan_status'], model_knn, target_names)"
   ]
  },
  {
   "cell_type": "code",
   "execution_count": 35,
   "id": "5e6b36a8",
   "metadata": {},
   "outputs": [],
   "source": [
    "##########################################################\n",
    "##########################################################\n",
    "#%% AdaBoost\n",
    "##########################################################\n",
    "##########################################################"
   ]
  },
  {
   "cell_type": "code",
   "execution_count": 36,
   "id": "eaca020e",
   "metadata": {},
   "outputs": [
    {
     "name": "stdout",
     "output_type": "stream",
     "text": [
      "Fitting 5 folds for each of 50 candidates, totalling 250 fits\n",
      "Best parameters found:  {'n_estimators': 200, 'learning_rate': 0.1, 'estimator__min_samples_split': 7, 'estimator__min_samples_leaf': 7, 'estimator__max_depth': 3}\n"
     ]
    }
   ],
   "source": [
    "# Define parameters set\n",
    "AdaBoost_param_grid = { 'estimator__min_samples_split':[5,6,7,8,9]\n",
    "                       ,'estimator__min_samples_leaf':[2,3,4,5,6,7, 8, 9]\n",
    "                       ,'estimator__max_depth':[2, 3,4,5,6, 7]\n",
    "                       ,'n_estimators': [ 200, 250, 300, 350, 400, 450, 500]\n",
    "                       ,'learning_rate':[0.01, 0.05, 0.1, 0.3, 0.6, 0.9]}\n",
    "\n",
    "\n",
    "# Instantiate model\n",
    "dt_base_learner = DecisionTreeClassifier()\n",
    "model_AdaBoost_init = AdaBoostClassifier(estimator = dt_base_learner)\n",
    "\n",
    "## in case of GridSeach:  param_grid no param_distributions\n",
    "\n",
    "# Perform random search with CV for time series\n",
    "\n",
    "#\n",
    "model_AdaBoost_random_search = RandomizedSearchCV(param_distributions = AdaBoost_param_grid,\n",
    "                                              estimator = model_AdaBoost_init,\n",
    "                                              scoring = 'roc_auc',\n",
    "                                              n_iter = 50,\n",
    "                                              cv = 5,\n",
    "                                              verbose=1,\n",
    "                                              n_jobs=-1)\n",
    "\n",
    "## in case of GridSeach:  param_grid no param_distributions\n",
    "\n",
    "# Fit randomized_mse to the data\n",
    "model_AdaBoost_random_search.fit(X_train, np.ravel(y_train))\n",
    "\n",
    "# Print the best parameters\n",
    "print(\"Best parameters found: \", model_AdaBoost_random_search.best_params_)"
   ]
  },
  {
   "cell_type": "code",
   "execution_count": 37,
   "id": "a815ed01",
   "metadata": {},
   "outputs": [],
   "source": [
    "# Extract the best model\n",
    "model_AdaBoost = model_AdaBoost_random_search.best_estimator_"
   ]
  },
  {
   "cell_type": "code",
   "execution_count": 38,
   "id": "0b3ff8a3",
   "metadata": {},
   "outputs": [],
   "source": [
    "##########################################################\n",
    "#%% Test set - model evaluation\n",
    "##########################################################"
   ]
  },
  {
   "cell_type": "code",
   "execution_count": 39,
   "id": "65a724ee",
   "metadata": {},
   "outputs": [],
   "source": [
    "preds_proba_AdaBoost = model_AdaBoost.predict_proba(X_test)"
   ]
  },
  {
   "cell_type": "code",
   "execution_count": 40,
   "id": "61a81467",
   "metadata": {},
   "outputs": [
    {
     "name": "stdout",
     "output_type": "stream",
     "text": [
      "              precision    recall  f1-score   support\n",
      "\n",
      " Non-Default       0.95      0.94      0.94      4971\n",
      "     Default       0.78      0.81      0.80      1365\n",
      "\n",
      "    accuracy                           0.91      6336\n",
      "   macro avg       0.87      0.88      0.87      6336\n",
      "weighted avg       0.91      0.91      0.91      6336\n",
      "\n",
      "\n",
      "AUC score:   0.948\n",
      "\n",
      "Confusion Matrix:\n"
     ]
    },
    {
     "data": {
      "image/png": "[encoded data removed]",
      "text/plain": [
       "<Figure size 432x288 with 2 Axes>"
      ]
     },
     "metadata": {
      "needs_background": "light"
     },
     "output_type": "display_data"
    }
   ],
   "source": [
    "# Create a dataframe for the probabilities of default\n",
    "preds_df_AdaBoost = pd.DataFrame(preds_proba_AdaBoost[:,1], columns = ['prob_default'])\n",
    "\n",
    "# Reassign loan status based on the threshold\n",
    "preds_df_AdaBoost['loan_status'] = preds_df_AdaBoost['prob_default'].apply(lambda x: 1 if x > 0.5 else 0)\n",
    "\n",
    "# Print the classification report\n",
    "target_names = ['Non-Default', 'Default']\n",
    "print(classification_report(y_test, preds_df_AdaBoost['loan_status'], target_names=target_names))\n",
    "\n",
    "### AUC score\n",
    "print('')\n",
    "print('AUC score:   ' + str(round(roc_auc_score(y_test, preds_df_AdaBoost['prob_default']), 3) ) )\n",
    "\n",
    "### Confusion Matrix\n",
    "print('')\n",
    "print('Confusion Matrix:')\n",
    "plot_confusion_matrix(y_test, preds_df_AdaBoost['loan_status'], model_AdaBoost, target_names)"
   ]
  },
  {
   "cell_type": "code",
   "execution_count": 41,
   "id": "6565a652",
   "metadata": {},
   "outputs": [],
   "source": [
    "##########################################################\n",
    "##########################################################\n",
    "#%% XGBoost\n",
    "##########################################################\n",
    "##########################################################"
   ]
  },
  {
   "cell_type": "code",
   "execution_count": 42,
   "id": "9cd2a9ed",
   "metadata": {},
   "outputs": [
    {
     "name": "stdout",
     "output_type": "stream",
     "text": [
      "Fitting 5 folds for each of 50 candidates, totalling 250 fits\n",
      "Best parameters found:  {'subsample': 1.0, 'reg_lambda': 0.05, 'n_estimators': 300, 'min_child_weight': 0.05, 'max_depth': 6, 'learning_rate': 0.05, 'gamma': 2.0, 'colsample_bytree': 0.7}\n"
     ]
    }
   ],
   "source": [
    "# Define parameters set\n",
    "xgboost_param_grid = {\n",
    "                  'n_estimators': [  200, 250,  300, 350, 400, 450, 500],\n",
    "                  'max_depth': range(2, 9),\n",
    "                  'subsample': [0.6, 0.7, 0.8, 0.9, 1.0],\n",
    "                  'colsample_bytree': [0.3, 0.5, 0.7, 0.9, 1.0],\n",
    "                  'learning_rate': [ 0.01, 0.05, 0.1, 0.3, 0.5, 0.7],\n",
    "                  'gamma': [0, 0.25, 0.5, 1.0, 1.5, 2.0, 2.5],\n",
    "                  'reg_lambda': [0.01, 0.05, 0.1, 0.3, 0.5, 0.75, 1.0],\n",
    "                  'min_child_weight':[0.01, 0.05, 0.1, 1, 3]\n",
    "                 }\n",
    "\n",
    "# Instantiate model\n",
    "model_xgboost_init = xgb.XGBClassifier()\n",
    "\n",
    "## in case of GridSeach:  param_grid no param_distributions\n",
    "\n",
    "# Perform random search with CV for time series\n",
    "\n",
    "# roc_auc, recall, f1_macro\n",
    "model_xgboost_random_search = RandomizedSearchCV(param_distributions = xgboost_param_grid,\n",
    "                                                  estimator = model_xgboost_init,\n",
    "                                                  scoring = 'roc_auc',\n",
    "                                                  n_iter = 50,\n",
    "                                                  cv = 5,\n",
    "                                                  verbose=1,\n",
    "                                                  n_jobs=-1)\n",
    "\n",
    "## in case of GridSeach:  param_grid no param_distributions\n",
    "\n",
    "# Fit randomized_mse to the data\n",
    "model_xgboost_random_search.fit(X_train, np.ravel(y_train))\n",
    "\n",
    "# Print the best parameters\n",
    "print(\"Best parameters found: \", model_xgboost_random_search.best_params_)"
   ]
  },
  {
   "cell_type": "code",
   "execution_count": 43,
   "id": "65a427b9",
   "metadata": {},
   "outputs": [],
   "source": [
    "# Extract the best model\n",
    "model_xgboost = model_xgboost_random_search.best_estimator_"
   ]
  },
  {
   "cell_type": "code",
   "execution_count": 44,
   "id": "5cf01d77",
   "metadata": {},
   "outputs": [],
   "source": [
    "##########################################################\n",
    "#%% Test set - model evaluation\n",
    "##########################################################"
   ]
  },
  {
   "cell_type": "code",
   "execution_count": 45,
   "id": "782365ce",
   "metadata": {},
   "outputs": [],
   "source": [
    "preds_proba_xgboost = model_xgboost.predict_proba(X_test)"
   ]
  },
  {
   "cell_type": "code",
   "execution_count": 46,
   "id": "f5ec4e3e",
   "metadata": {},
   "outputs": [
    {
     "name": "stdout",
     "output_type": "stream",
     "text": [
      "              precision    recall  f1-score   support\n",
      "\n",
      " Non-Default       0.95      0.93      0.94      4971\n",
      "     Default       0.78      0.84      0.81      1365\n",
      "\n",
      "    accuracy                           0.91      6336\n",
      "   macro avg       0.87      0.89      0.88      6336\n",
      "weighted avg       0.92      0.91      0.91      6336\n",
      "\n",
      "\n",
      "AUC score:   0.954\n",
      "\n",
      "Confusion Matrix:\n"
     ]
    },
    {
     "data": {
      "image/png": "[encoded data removed]",
      "text/plain": [
       "<Figure size 432x288 with 2 Axes>"
      ]
     },
     "metadata": {
      "needs_background": "light"
     },
     "output_type": "display_data"
    }
   ],
   "source": [
    "# Create a dataframe for the probabilities of default\n",
    "preds_df_xgboost = pd.DataFrame(preds_proba_xgboost[:,1], columns = ['prob_default'])\n",
    "\n",
    "# Reassign loan status based on the threshold\n",
    "preds_df_xgboost['loan_status'] = preds_df_xgboost['prob_default'].apply(lambda x: 1 if x > 0.5 else 0)\n",
    "\n",
    "# Print the classification report\n",
    "target_names = ['Non-Default', 'Default']\n",
    "print(classification_report(y_test, preds_df_xgboost['loan_status'], target_names=target_names))\n",
    "\n",
    "### AUC score\n",
    "print('')\n",
    "print('AUC score:   ' + str(round(roc_auc_score(y_test, preds_df_xgboost['prob_default']), 3) ) )\n",
    "\n",
    "### Confusion Matrix\n",
    "print('')\n",
    "print('Confusion Matrix:')\n",
    "plot_confusion_matrix(y_test, preds_df_xgboost['loan_status'], model_xgboost, target_names)"
   ]
  },
  {
   "cell_type": "code",
   "execution_count": 47,
   "id": "4802e9f1",
   "metadata": {},
   "outputs": [],
   "source": [
    "##########################################################\n",
    "##########################################################\n",
    "#%% SVM\n",
    "##########################################################\n",
    "##########################################################"
   ]
  },
  {
   "cell_type": "code",
   "execution_count": 48,
   "id": "82ba1c37",
   "metadata": {},
   "outputs": [
    {
     "name": "stderr",
     "output_type": "stream",
     "text": [
      "C:\\Users\\kamil\\anaconda3\\lib\\site-packages\\sklearn\\model_selection\\_search.py:307: UserWarning: The total space of parameters 24 is smaller than n_iter=50. Running 24 iterations. For exhaustive searches, use GridSearchCV.\n",
      "  warnings.warn(\n"
     ]
    },
    {
     "name": "stdout",
     "output_type": "stream",
     "text": [
      "Fitting 5 folds for each of 24 candidates, totalling 120 fits\n",
      "Best parameters found:  {'kernel': 'rbf', 'gamma': 0.01, 'C': 3000}\n"
     ]
    }
   ],
   "source": [
    "# Define parameters set\n",
    "svm_param_grid = {\n",
    "                  #'kernel': ['rbf','poly','sigmoid'],\n",
    "                  'kernel': ['rbf'],\n",
    "                  'C': [ 100, 1000, 3000, 5000, 7000, 9000],\n",
    "                  'gamma': [0.001, 0.005, 0.01,  0.05],\n",
    "                  #'epsilon': [0.5, 0.3, 0.1, 0.08],\n",
    "                  #'degree':[3,4,5]\n",
    "                 }\n",
    "\n",
    "# Instantiate model\n",
    "model_svm_init = svm.SVC(probability=True)\n",
    "\n",
    "## in case of GridSeach:  param_grid no param_distributions\n",
    "\n",
    "# Perform random search with CV for time series\n",
    "\n",
    "#\n",
    "model_svm_random_search = RandomizedSearchCV(param_distributions = svm_param_grid,\n",
    "                                              estimator = model_svm_init,\n",
    "                                              scoring = 'roc_auc',\n",
    "                                              n_iter = 50,\n",
    "                                              cv = 5,\n",
    "                                              verbose=1,\n",
    "                                              n_jobs=-1)\n",
    "\n",
    "## in case of GridSeach:  param_grid no param_distributions\n",
    "\n",
    "# Fit randomized_mse to the data\n",
    "model_svm_random_search.fit(X_train_sld, np.ravel(y_train))\n",
    "\n",
    "# Print the best parameters\n",
    "print(\"Best parameters found: \", model_svm_random_search.best_params_)"
   ]
  },
  {
   "cell_type": "code",
   "execution_count": 49,
   "id": "f5e38936",
   "metadata": {},
   "outputs": [],
   "source": [
    "# Extract the best model\n",
    "model_svm = model_svm_random_search.best_estimator_"
   ]
  },
  {
   "cell_type": "code",
   "execution_count": 50,
   "id": "4a89e2ae",
   "metadata": {},
   "outputs": [],
   "source": [
    "##########################################################\n",
    "#%% Test set - model evaluation\n",
    "##########################################################"
   ]
  },
  {
   "cell_type": "code",
   "execution_count": 51,
   "id": "be2a7784",
   "metadata": {},
   "outputs": [],
   "source": [
    "preds_proba_svm = model_svm.predict_proba(X_test_sld)"
   ]
  },
  {
   "cell_type": "code",
   "execution_count": 52,
   "id": "0b0b13c8",
   "metadata": {},
   "outputs": [
    {
     "name": "stdout",
     "output_type": "stream",
     "text": [
      "              precision    recall  f1-score   support\n",
      "\n",
      " Non-Default       0.95      0.72      0.82      4971\n",
      "     Default       0.46      0.85      0.59      1365\n",
      "\n",
      "    accuracy                           0.75      6336\n",
      "   macro avg       0.70      0.79      0.71      6336\n",
      "weighted avg       0.84      0.75      0.77      6336\n",
      "\n",
      "\n",
      "AUC score:   0.886\n",
      "\n",
      "Confusion Matrix:\n"
     ]
    },
    {
     "data": {
      "image/png": "[encoded data removed]",
      "text/plain": [
       "<Figure size 432x288 with 2 Axes>"
      ]
     },
     "metadata": {
      "needs_background": "light"
     },
     "output_type": "display_data"
    }
   ],
   "source": [
    "# Create a dataframe for the probabilities of default\n",
    "preds_df_svm = pd.DataFrame(preds_proba_svm[:,1], columns = ['prob_default'])\n",
    "\n",
    "# Reassign loan status based on the threshold\n",
    "preds_df_svm['loan_status'] = preds_df_svm['prob_default'].apply(lambda x: 1 if x > 0.5 else 0)\n",
    "\n",
    "# Print the classification report\n",
    "target_names = ['Non-Default', 'Default']\n",
    "print(classification_report(y_test, preds_df_svm['loan_status'], target_names=target_names))\n",
    "\n",
    "### AUC score\n",
    "print('')\n",
    "print('AUC score:   ' + str(round(roc_auc_score(y_test, preds_df_svm['prob_default']), 3) ) )\n",
    "\n",
    "### Confusion Matrix\n",
    "print('')\n",
    "print('Confusion Matrix:')\n",
    "plot_confusion_matrix(y_test, preds_df_svm['loan_status'], model_svm, target_names)"
   ]
  },
  {
   "cell_type": "code",
   "execution_count": 53,
   "id": "27a328ce",
   "metadata": {},
   "outputs": [],
   "source": [
    "##########################################################\n",
    "##########################################################\n",
    "#%% Voting Classifier\n",
    "##########################################################\n",
    "##########################################################"
   ]
  },
  {
   "cell_type": "code",
   "execution_count": 54,
   "id": "2eb2e0b3",
   "metadata": {},
   "outputs": [],
   "source": [
    "# Define the list classifiers\n",
    "classifiers = [('Logistic Regression', LogisticRegression(solver = 'liblinear', **model_lr_random_search.best_params_)),\\\n",
    "               ('K Nearest Neighbours', KNeighborsClassifier(**model_knn_random_search.best_params_)),\\\n",
    "               ('SVM', make_pipeline(StandardScaler(),svm.SVC(probability=True, **model_svm_random_search.best_params_))),\\\n",
    "               ('XGBoost', xgb.XGBClassifier(**model_xgboost_random_search.best_params_))]"
   ]
  },
  {
   "cell_type": "code",
   "execution_count": 55,
   "id": "35604a32",
   "metadata": {},
   "outputs": [],
   "source": [
    "# Instantiate a VotingClassifier vc\n",
    "model_voting = VotingClassifier(estimators=classifiers, voting='soft')"
   ]
  },
  {
   "cell_type": "code",
   "execution_count": 56,
   "id": "26d0ee4e",
   "metadata": {},
   "outputs": [
    {
     "data": {
      "text/html": [
       "<style>#sk-container-id-1 {color: black;}#sk-container-id-1 pre{padding: 0;}#sk-container-id-1 div.sk-toggleable {background-color: white;}#sk-container-id-1 label.sk-toggleable__label {cursor: pointer;display: block;width: 100%;margin-bottom: 0;padding: 0.3em;box-sizing: border-box;text-align: center;}#sk-container-id-1 label.sk-toggleable__label-arrow:before {content: \"▸\";float: left;margin-right: 0.25em;color: #696969;}#sk-container-id-1 label.sk-toggleable__label-arrow:hover:before {color: black;}#sk-container-id-1 div.sk-estimator:hover label.sk-toggleable__label-arrow:before {color: black;}#sk-container-id-1 div.sk-toggleable__content {max-height: 0;max-width: 0;overflow: hidden;text-align: left;background-color: #f0f8ff;}#sk-container-id-1 div.sk-toggleable__content pre {margin: 0.2em;color: black;border-radius: 0.25em;background-color: #f0f8ff;}#sk-container-id-1 input.sk-toggleable__control:checked~div.sk-toggleable__content {max-height: 200px;max-width: 100%;overflow: auto;}#sk-container-id-1 input.sk-toggleable__control:checked~label.sk-toggleable__label-arrow:before {content: \"▾\";}#sk-container-id-1 div.sk-estimator input.sk-toggleable__control:checked~label.sk-toggleable__label {background-color: #d4ebff;}#sk-container-id-1 div.sk-label input.sk-toggleable__control:checked~label.sk-toggleable__label {background-color: #d4ebff;}#sk-container-id-1 input.sk-hidden--visually {border: 0;clip: rect(1px 1px 1px 1px);clip: rect(1px, 1px, 1px, 1px);height: 1px;margin: -1px;overflow: hidden;padding: 0;position: absolute;width: 1px;}#sk-container-id-1 div.sk-estimator {font-family: monospace;background-color: #f0f8ff;border: 1px dotted black;border-radius: 0.25em;box-sizing: border-box;margin-bottom: 0.5em;}#sk-container-id-1 div.sk-estimator:hover {background-color: #d4ebff;}#sk-container-id-1 div.sk-parallel-item::after {content: \"\";width: 100%;border-bottom: 1px solid gray;flex-grow: 1;}#sk-container-id-1 div.sk-label:hover label.sk-toggleable__label {background-color: #d4ebff;}#sk-container-id-1 div.sk-serial::before {content: \"\";position: absolute;border-left: 1px solid gray;box-sizing: border-box;top: 0;bottom: 0;left: 50%;z-index: 0;}#sk-container-id-1 div.sk-serial {display: flex;flex-direction: column;align-items: center;background-color: white;padding-right: 0.2em;padding-left: 0.2em;position: relative;}#sk-container-id-1 div.sk-item {position: relative;z-index: 1;}#sk-container-id-1 div.sk-parallel {display: flex;align-items: stretch;justify-content: center;background-color: white;position: relative;}#sk-container-id-1 div.sk-item::before, #sk-container-id-1 div.sk-parallel-item::before {content: \"\";position: absolute;border-left: 1px solid gray;box-sizing: border-box;top: 0;bottom: 0;left: 50%;z-index: -1;}#sk-container-id-1 div.sk-parallel-item {display: flex;flex-direction: column;z-index: 1;position: relative;background-color: white;}#sk-container-id-1 div.sk-parallel-item:first-child::after {align-self: flex-end;width: 50%;}#sk-container-id-1 div.sk-parallel-item:last-child::after {align-self: flex-start;width: 50%;}#sk-container-id-1 div.sk-parallel-item:only-child::after {width: 0;}#sk-container-id-1 div.sk-dashed-wrapped {border: 1px dashed gray;margin: 0 0.4em 0.5em 0.4em;box-sizing: border-box;padding-bottom: 0.4em;background-color: white;}#sk-container-id-1 div.sk-label label {font-family: monospace;font-weight: bold;display: inline-block;line-height: 1.2em;}#sk-container-id-1 div.sk-label-container {text-align: center;}#sk-container-id-1 div.sk-container {/* jupyter's `normalize.less` sets `[hidden] { display: none; }` but bootstrap.min.css set `[hidden] { display: none !important; }` so we also need the `!important` here to be able to override the default hidden behavior on the sphinx rendered scikit-learn.org. See: https://github.com/scikit-learn/scikit-learn/issues/21755 */display: inline-block !important;position: relative;}#sk-container-id-1 div.sk-text-repr-fallback {display: none;}</style><div id=\"sk-container-id-1\" class=\"sk-top-container\"><div class=\"sk-text-repr-fallback\"><pre>VotingClassifier(estimators=[(&#x27;Logistic Regression&#x27;,\n",
       "                              LogisticRegression(C=163789.3706954068,\n",
       "                                                 solver=&#x27;liblinear&#x27;)),\n",
       "                             (&#x27;K Nearest Neighbours&#x27;,\n",
       "                              KNeighborsClassifier(metric=&#x27;manhattan&#x27;,\n",
       "                                                   n_neighbors=37,\n",
       "                                                   weights=&#x27;distance&#x27;)),\n",
       "                             (&#x27;SVM&#x27;,\n",
       "                              Pipeline(steps=[(&#x27;standardscaler&#x27;,\n",
       "                                               StandardScaler()),\n",
       "                                              (&#x27;svc&#x27;,\n",
       "                                               SVC(C=3000, gamma=0.01,\n",
       "                                                   probability=True))])),\n",
       "                             (&#x27;XGBoost&#x27;,\n",
       "                              XGBClassifier(base_s...\n",
       "                                            gpu_id=None, grow_policy=None,\n",
       "                                            importance_type=None,\n",
       "                                            interaction_constraints=None,\n",
       "                                            learning_rate=0.05, max_bin=None,\n",
       "                                            max_cat_threshold=None,\n",
       "                                            max_cat_to_onehot=None,\n",
       "                                            max_delta_step=None, max_depth=6,\n",
       "                                            max_leaves=None,\n",
       "                                            min_child_weight=0.05, missing=nan,\n",
       "                                            monotone_constraints=None,\n",
       "                                            n_estimators=300, n_jobs=None,\n",
       "                                            num_parallel_tree=None,\n",
       "                                            predictor=None, random_state=None, ...))],\n",
       "                 voting=&#x27;soft&#x27;)</pre><b>In a Jupyter environment, please rerun this cell to show the HTML representation or trust the notebook. <br />On GitHub, the HTML representation is unable to render, please try loading this page with nbviewer.org.</b></div><div class=\"sk-container\" hidden><div class=\"sk-item sk-dashed-wrapped\"><div class=\"sk-label-container\"><div class=\"sk-label sk-toggleable\"><input class=\"sk-toggleable__control sk-hidden--visually\" id=\"sk-estimator-id-1\" type=\"checkbox\" ><label for=\"sk-estimator-id-1\" class=\"sk-toggleable__label sk-toggleable__label-arrow\">VotingClassifier</label><div class=\"sk-toggleable__content\"><pre>VotingClassifier(estimators=[(&#x27;Logistic Regression&#x27;,\n",
       "                              LogisticRegression(C=163789.3706954068,\n",
       "                                                 solver=&#x27;liblinear&#x27;)),\n",
       "                             (&#x27;K Nearest Neighbours&#x27;,\n",
       "                              KNeighborsClassifier(metric=&#x27;manhattan&#x27;,\n",
       "                                                   n_neighbors=37,\n",
       "                                                   weights=&#x27;distance&#x27;)),\n",
       "                             (&#x27;SVM&#x27;,\n",
       "                              Pipeline(steps=[(&#x27;standardscaler&#x27;,\n",
       "                                               StandardScaler()),\n",
       "                                              (&#x27;svc&#x27;,\n",
       "                                               SVC(C=3000, gamma=0.01,\n",
       "                                                   probability=True))])),\n",
       "                             (&#x27;XGBoost&#x27;,\n",
       "                              XGBClassifier(base_s...\n",
       "                                            gpu_id=None, grow_policy=None,\n",
       "                                            importance_type=None,\n",
       "                                            interaction_constraints=None,\n",
       "                                            learning_rate=0.05, max_bin=None,\n",
       "                                            max_cat_threshold=None,\n",
       "                                            max_cat_to_onehot=None,\n",
       "                                            max_delta_step=None, max_depth=6,\n",
       "                                            max_leaves=None,\n",
       "                                            min_child_weight=0.05, missing=nan,\n",
       "                                            monotone_constraints=None,\n",
       "                                            n_estimators=300, n_jobs=None,\n",
       "                                            num_parallel_tree=None,\n",
       "                                            predictor=None, random_state=None, ...))],\n",
       "                 voting=&#x27;soft&#x27;)</pre></div></div></div><div class=\"sk-parallel\"><div class=\"sk-parallel-item\"><div class=\"sk-item\"><div class=\"sk-label-container\"><div class=\"sk-label sk-toggleable\"><label>Logistic Regression</label></div></div><div class=\"sk-serial\"><div class=\"sk-item\"><div class=\"sk-estimator sk-toggleable\"><input class=\"sk-toggleable__control sk-hidden--visually\" id=\"sk-estimator-id-2\" type=\"checkbox\" ><label for=\"sk-estimator-id-2\" class=\"sk-toggleable__label sk-toggleable__label-arrow\">LogisticRegression</label><div class=\"sk-toggleable__content\"><pre>LogisticRegression(C=163789.3706954068, solver=&#x27;liblinear&#x27;)</pre></div></div></div></div></div></div><div class=\"sk-parallel-item\"><div class=\"sk-item\"><div class=\"sk-label-container\"><div class=\"sk-label sk-toggleable\"><label>K Nearest Neighbours</label></div></div><div class=\"sk-serial\"><div class=\"sk-item\"><div class=\"sk-estimator sk-toggleable\"><input class=\"sk-toggleable__control sk-hidden--visually\" id=\"sk-estimator-id-3\" type=\"checkbox\" ><label for=\"sk-estimator-id-3\" class=\"sk-toggleable__label sk-toggleable__label-arrow\">KNeighborsClassifier</label><div class=\"sk-toggleable__content\"><pre>KNeighborsClassifier(metric=&#x27;manhattan&#x27;, n_neighbors=37, weights=&#x27;distance&#x27;)</pre></div></div></div></div></div></div><div class=\"sk-parallel-item\"><div class=\"sk-item\"><div class=\"sk-label-container\"><div class=\"sk-label sk-toggleable\"><label>SVM</label></div></div><div class=\"sk-serial\"><div class=\"sk-item\"><div class=\"sk-serial\"><div class=\"sk-item\"><div class=\"sk-estimator sk-toggleable\"><input class=\"sk-toggleable__control sk-hidden--visually\" id=\"sk-estimator-id-4\" type=\"checkbox\" ><label for=\"sk-estimator-id-4\" class=\"sk-toggleable__label sk-toggleable__label-arrow\">StandardScaler</label><div class=\"sk-toggleable__content\"><pre>StandardScaler()</pre></div></div></div><div class=\"sk-item\"><div class=\"sk-estimator sk-toggleable\"><input class=\"sk-toggleable__control sk-hidden--visually\" id=\"sk-estimator-id-5\" type=\"checkbox\" ><label for=\"sk-estimator-id-5\" class=\"sk-toggleable__label sk-toggleable__label-arrow\">SVC</label><div class=\"sk-toggleable__content\"><pre>SVC(C=3000, gamma=0.01, probability=True)</pre></div></div></div></div></div></div></div></div><div class=\"sk-parallel-item\"><div class=\"sk-item\"><div class=\"sk-label-container\"><div class=\"sk-label sk-toggleable\"><label>XGBoost</label></div></div><div class=\"sk-serial\"><div class=\"sk-item\"><div class=\"sk-estimator sk-toggleable\"><input class=\"sk-toggleable__control sk-hidden--visually\" id=\"sk-estimator-id-6\" type=\"checkbox\" ><label for=\"sk-estimator-id-6\" class=\"sk-toggleable__label sk-toggleable__label-arrow\">XGBClassifier</label><div class=\"sk-toggleable__content\"><pre>XGBClassifier(base_score=None, booster=None, callbacks=None,\n",
       "              colsample_bylevel=None, colsample_bynode=None,\n",
       "              colsample_bytree=0.7, early_stopping_rounds=None,\n",
       "              enable_categorical=False, eval_metric=None, feature_types=None,\n",
       "              gamma=2.0, gpu_id=None, grow_policy=None, importance_type=None,\n",
       "              interaction_constraints=None, learning_rate=0.05, max_bin=None,\n",
       "              max_cat_threshold=None, max_cat_to_onehot=None,\n",
       "              max_delta_step=None, max_depth=6, max_leaves=None,\n",
       "              min_child_weight=0.05, missing=nan, monotone_constraints=None,\n",
       "              n_estimators=300, n_jobs=None, num_parallel_tree=None,\n",
       "              predictor=None, random_state=None, ...)</pre></div></div></div></div></div></div></div></div></div></div>"
      ],
      "text/plain": [
       "VotingClassifier(estimators=[('Logistic Regression',\n",
       "                              LogisticRegression(C=163789.3706954068,\n",
       "                                                 solver='liblinear')),\n",
       "                             ('K Nearest Neighbours',\n",
       "                              KNeighborsClassifier(metric='manhattan',\n",
       "                                                   n_neighbors=37,\n",
       "                                                   weights='distance')),\n",
       "                             ('SVM',\n",
       "                              Pipeline(steps=[('standardscaler',\n",
       "                                               StandardScaler()),\n",
       "                                              ('svc',\n",
       "                                               SVC(C=3000, gamma=0.01,\n",
       "                                                   probability=True))])),\n",
       "                             ('XGBoost',\n",
       "                              XGBClassifier(base_s...\n",
       "                                            gpu_id=None, grow_policy=None,\n",
       "                                            importance_type=None,\n",
       "                                            interaction_constraints=None,\n",
       "                                            learning_rate=0.05, max_bin=None,\n",
       "                                            max_cat_threshold=None,\n",
       "                                            max_cat_to_onehot=None,\n",
       "                                            max_delta_step=None, max_depth=6,\n",
       "                                            max_leaves=None,\n",
       "                                            min_child_weight=0.05, missing=nan,\n",
       "                                            monotone_constraints=None,\n",
       "                                            n_estimators=300, n_jobs=None,\n",
       "                                            num_parallel_tree=None,\n",
       "                                            predictor=None, random_state=None, ...))],\n",
       "                 voting='soft')"
      ]
     },
     "execution_count": 56,
     "metadata": {},
     "output_type": "execute_result"
    }
   ],
   "source": [
    "model_voting.fit(X_train, np.ravel(y_train))"
   ]
  },
  {
   "cell_type": "code",
   "execution_count": 57,
   "id": "099f5dc6",
   "metadata": {},
   "outputs": [],
   "source": [
    "preds_proba_voting = model_voting.predict_proba(X_test)"
   ]
  },
  {
   "cell_type": "code",
   "execution_count": 58,
   "id": "1504e4c4",
   "metadata": {},
   "outputs": [
    {
     "name": "stdout",
     "output_type": "stream",
     "text": [
      "              precision    recall  f1-score   support\n",
      "\n",
      " Non-Default       0.95      0.88      0.91      4971\n",
      "     Default       0.65      0.83      0.73      1365\n",
      "\n",
      "    accuracy                           0.87      6336\n",
      "   macro avg       0.80      0.85      0.82      6336\n",
      "weighted avg       0.89      0.87      0.87      6336\n",
      "\n",
      "\n",
      "AUC score:   0.931\n",
      "\n",
      "Confusion Matrix:\n"
     ]
    },
    {
     "data": {
      "image/png": "[encoded data removed]",
      "text/plain": [
       "<Figure size 432x288 with 2 Axes>"
      ]
     },
     "metadata": {
      "needs_background": "light"
     },
     "output_type": "display_data"
    }
   ],
   "source": [
    "# Create a dataframe for the probabilities of default\n",
    "preds_df_voting = pd.DataFrame(preds_proba_voting[:,1], columns = ['prob_default'])\n",
    "\n",
    "# Reassign loan status based on the threshold\n",
    "preds_df_voting['loan_status'] = preds_df_voting['prob_default'].apply(lambda x: 1 if x > 0.5 else 0)\n",
    "\n",
    "\n",
    "# Print the classification report\n",
    "target_names = ['Non-Default', 'Default']\n",
    "print(classification_report(y_test, preds_df_voting['loan_status'], target_names=target_names))\n",
    "\n",
    "### AUC score\n",
    "print('')\n",
    "print('AUC score:   ' + str(round(roc_auc_score(y_test, preds_df_voting['prob_default']), 3) ) )\n",
    "\n",
    "### Confusion Matrix\n",
    "print('')\n",
    "print('Confusion Matrix:')\n",
    "plot_confusion_matrix(y_test, preds_df_voting['loan_status'], model_voting, target_names)"
   ]
  },
  {
   "cell_type": "code",
   "execution_count": 59,
   "id": "532ebe85",
   "metadata": {},
   "outputs": [],
   "source": [
    "##########################################################\n",
    "##########################################################\n",
    "#%% COMPARE MODELS\n",
    "##########################################################\n",
    "##########################################################"
   ]
  },
  {
   "cell_type": "code",
   "execution_count": 60,
   "id": "a7bddcd4",
   "metadata": {},
   "outputs": [
    {
     "data": {
      "image/png": "[encoded data removed]",
      "text/plain": [
       "<Figure size 432x288 with 1 Axes>"
      ]
     },
     "metadata": {
      "needs_background": "light"
     },
     "output_type": "display_data"
    }
   ],
   "source": [
    "# ROC chart components\n",
    "fallout_lr, sensitivity_lr, thresholds_lr = roc_curve(y_test, preds_df_lr['prob_default'])\n",
    "fallout_knn, sensitivity_knn, thresholds_knn = roc_curve(y_test, preds_df_knn['prob_default'])\n",
    "fallout_AdaBoost, sensitivity_AdaBoost, thresholds_AdaBoost = roc_curve(y_test, preds_df_AdaBoost['prob_default'])\n",
    "fallout_xgboost, sensitivity_xgboost, thresholds_xgboost = roc_curve(y_test, preds_df_xgboost['prob_default'])\n",
    "fallout_svm, sensitivity_svm, thresholds_svm = roc_curve(y_test, preds_df_svm['prob_default'])\n",
    "fallout_voting, sensitivity_voting, thresholds_voting = roc_curve(y_test, preds_df_voting['prob_default'])\n",
    "\n",
    "\n",
    "# ROC Chart with both\n",
    "plt.plot(fallout_lr, sensitivity_lr, color = 'blue', label='%s' % 'Logistic Regression')\n",
    "plt.plot(fallout_knn, sensitivity_knn, color = 'orange', label='%s' % 'knn')\n",
    "plt.plot(fallout_AdaBoost, sensitivity_AdaBoost, color = 'grey', label='%s' % 'AdaBoost')\n",
    "plt.plot(fallout_xgboost, sensitivity_xgboost, color = 'green', label='%s' % 'XGBoost')\n",
    "plt.plot(fallout_svm, sensitivity_svm, color = 'brown', label='%s' % 'SVM')\n",
    "plt.plot(fallout_voting, sensitivity_voting, color = 'red', label='%s' % 'Voting')\n",
    "\n",
    "plt.plot([0, 1], [0, 1], linestyle='--', label='%s' % 'Random Prediction')\n",
    "plt.title(\"ROC Chart on the Probability of Default\")\n",
    "plt.xlabel('Fall-out')\n",
    "plt.ylabel('Sensitivity')\n",
    "plt.legend()\n",
    "plt.show()"
   ]
  },
  {
   "cell_type": "code",
   "execution_count": 61,
   "id": "3bdecdf9",
   "metadata": {},
   "outputs": [],
   "source": [
    "# Calibration curve"
   ]
  },
  {
   "cell_type": "code",
   "execution_count": 62,
   "id": "e0080d79",
   "metadata": {},
   "outputs": [
    {
     "data": {
      "image/png": "[encoded data removed]",
      "text/plain": [
       "<Figure size 432x288 with 1 Axes>"
      ]
     },
     "metadata": {
      "needs_background": "light"
     },
     "output_type": "display_data"
    }
   ],
   "source": [
    "frac_of_pos_lr, mean_pred_val_lr = calibration_curve(y_test, preds_df_lr['prob_default'], n_bins=20)\n",
    "frac_of_pos_knn, mean_pred_val_knn = calibration_curve(y_test, preds_df_knn['prob_default'], n_bins=20)\n",
    "frac_of_pos_AdaBoost, mean_pred_val_AdaBoost = calibration_curve(y_test, preds_df_AdaBoost['prob_default'], n_bins=20)\n",
    "frac_of_pos_xgboost, mean_pred_val_xgboost = calibration_curve(y_test, preds_df_xgboost['prob_default'], n_bins=20)\n",
    "frac_of_pos_svm, mean_pred_val_svm = calibration_curve(y_test, preds_df_svm['prob_default'], n_bins=20)\n",
    "frac_of_pos_voting, mean_pred_val_voting = calibration_curve(y_test, preds_df_voting['prob_default'], n_bins=20)\n",
    "\n",
    "\n",
    "plt.plot([0, 1], [0, 1], 'k:', label='Perfectly calibrated')    \n",
    "plt.plot(mean_pred_val_lr, frac_of_pos_lr, 's-', label='%s' % 'Logistic Regression')\n",
    "plt.plot(mean_pred_val_knn, frac_of_pos_knn, 's-', label='%s' % 'knn')\n",
    "plt.plot(mean_pred_val_AdaBoost, frac_of_pos_AdaBoost, 's-', label='%s' % 'Ada Boost')\n",
    "plt.plot(mean_pred_val_xgboost, frac_of_pos_xgboost, 's-', label='%s' % 'XGBoost')\n",
    "plt.plot(mean_pred_val_svm, frac_of_pos_svm, 's-', label='%s' % 'SVM')\n",
    "plt.plot(mean_pred_val_voting, frac_of_pos_voting, 's-', label='%s' % 'Voting')\n",
    "\n",
    "plt.ylabel('Fraction of positives', fontsize=14)\n",
    "plt.xlabel('Average Predicted Probability', fontsize=14)\n",
    "plt.legend()\n",
    "plt.title('Calibration Curve', fontsize=16)\n",
    "plt.show()"
   ]
  }
 ],
 "metadata": {
  "kernelspec": {
   "display_name": "Python 3 (ipykernel)",
   "language": "python",
   "name": "python3"
  },
  "language_info": {
   "codemirror_mode": {
    "name": "ipython",
    "version": 3
   },
   "file_extension": ".py",
   "mimetype": "text/x-python",
   "name": "python",
   "nbconvert_exporter": "python",
   "pygments_lexer": "ipython3",
   "version": "3.8.8"
  }
 },
 "nbformat": 4,
 "nbformat_minor": 5
}
