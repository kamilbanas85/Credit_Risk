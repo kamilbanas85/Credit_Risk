{
 "cells": [
  {
   "cell_type": "code",
   "execution_count": 1,
   "id": "99affca2",
   "metadata": {},
   "outputs": [],
   "source": [
    "import numpy as np\n",
    "import pandas as pd\n",
    "import os\n",
    "\n",
    "import matplotlib.pyplot as plt\n",
    "import seaborn as sns\n",
    "\n",
    "from sklearn.model_selection import train_test_split, RandomizedSearchCV\n",
    "from sklearn.linear_model import LogisticRegression\n",
    "from sklearn.neighbors import KNeighborsClassifier\n",
    "from sklearn.tree import DecisionTreeClassifier\n",
    "from sklearn.ensemble import AdaBoostClassifier, VotingClassifier\n",
    "import xgboost as xgb\n",
    "from sklearn import svm\n",
    "from sklearn.pipeline import make_pipeline\n",
    "\n",
    "from sklearn.metrics import confusion_matrix, classification_report, ConfusionMatrixDisplay, roc_curve, roc_auc_score\n",
    "from sklearn.calibration import calibration_curve\n",
    "from sklearn.preprocessing import StandardScaler, LabelEncoder"
   ]
  },
  {
   "cell_type": "code",
   "execution_count": 2,
   "id": "def5d02a",
   "metadata": {},
   "outputs": [],
   "source": [
    "def plot_confusion_matrix(y_test, y_hat, model, class_names):\n",
    "    cm = confusion_matrix(y_test, y_hat, labels=model.classes_)\n",
    "    disp = ConfusionMatrixDisplay(confusion_matrix=cm,\n",
    "                                  display_labels=class_names)\n",
    "    disp.plot()\n",
    "    plt.rcParams[\"font.size\"] = \"11\"\n",
    "    plt.xlabel('Predicted label', fontsize=14)\n",
    "    plt.ylabel('True label', fontsize=14)\n",
    "    plt.show()"
   ]
  },
  {
   "cell_type": "code",
   "execution_count": 3,
   "id": "36d5debf",
   "metadata": {},
   "outputs": [],
   "source": [
    "# Set up folder with data:\n",
    "os.chdir('D:\\\\00_PROJECTS_sripts_code\\\\Credit_Risk')"
   ]
  },
  {
   "cell_type": "code",
   "execution_count": 4,
   "id": "481c0740",
   "metadata": {},
   "outputs": [],
   "source": [
    "###################\n",
    "#%% Read data\n",
    "###################"
   ]
  },
  {
   "cell_type": "code",
   "execution_count": 5,
   "id": "556bcbdd",
   "metadata": {},
   "outputs": [],
   "source": [
    "analysis_data = pd.read_csv('analysis_data.csv')                          "
   ]
  },
  {
   "cell_type": "code",
   "execution_count": 6,
   "id": "940693a2",
   "metadata": {},
   "outputs": [],
   "source": [
    "### Select all numerical and string variables:\n",
    "numeric_columns = analysis_data.select_dtypes(exclude=['object']).columns\n",
    "categorical_columns = analysis_data.select_dtypes(include=['object']).columns"
   ]
  },
  {
   "cell_type": "code",
   "execution_count": 7,
   "id": "f63552f0",
   "metadata": {},
   "outputs": [],
   "source": [
    "##########################################################\n",
    "##########################################################\n",
    "#%% Analysis data - prepare for analysis\n",
    "##########################################################\n",
    "##########################################################"
   ]
  },
  {
   "cell_type": "code",
   "execution_count": 8,
   "id": "eda62105",
   "metadata": {},
   "outputs": [],
   "source": [
    "##########################################################\n",
    "#%% Label encoding the non-numeric columns"
   ]
  },
  {
   "cell_type": "code",
   "execution_count": 9,
   "id": "69c2429a",
   "metadata": {},
   "outputs": [
    {
     "name": "stdout",
     "output_type": "stream",
     "text": [
      "Index(['person_age', 'person_income', 'person_home_ownership',\n",
      "       'person_emp_length', 'loan_intent', 'loan_grade', 'loan_amnt',\n",
      "       'loan_int_rate', 'loan_status', 'loan_percent_income',\n",
      "       'cb_person_default_on_file', 'cb_person_cred_hist_length'],\n",
      "      dtype='object')\n"
     ]
    }
   ],
   "source": [
    "labelencoder = LabelEncoder()\n",
    "\n",
    "# apply \"le.fit_transform\"\n",
    "analysis_data = analysis_data.apply(labelencoder.fit_transform)\n",
    "print(analysis_data.columns)"
   ]
  },
  {
   "cell_type": "code",
   "execution_count": 10,
   "id": "34377f84",
   "metadata": {},
   "outputs": [],
   "source": [
    "##########################################################\n",
    "#%% Train-Test Set"
   ]
  },
  {
   "cell_type": "code",
   "execution_count": 11,
   "id": "f68b7130",
   "metadata": {},
   "outputs": [],
   "source": [
    "X = analysis_data.drop('loan_status', axis=1)\n",
    "y = analysis_data[['loan_status']]\n",
    "\n",
    "X_train, X_test, y_train, y_test = train_test_split(X, y, test_size=0.2, stratify=y)\n",
    "# stratify=y garantie the same 'y' distribution"
   ]
  },
  {
   "cell_type": "code",
   "execution_count": 12,
   "id": "4258662c",
   "metadata": {},
   "outputs": [],
   "source": [
    "##########################################################\n",
    "#%% Undersampling training data"
   ]
  },
  {
   "cell_type": "code",
   "execution_count": 13,
   "id": "656a7e61",
   "metadata": {},
   "outputs": [],
   "source": [
    "def Undersampling_Data(X_tr, y_tr, y_name):\n",
    "    \n",
    "    X_y_train = pd.concat([X_tr.reset_index(drop = True),\n",
    "                           y_tr.reset_index(drop = True)], axis = 1)\n",
    "    \n",
    "    count_nondefault, count_default = X_y_train[y_name].value_counts()\n",
    "    #print(count_nondefault, count_default)\n",
    "\n",
    "    # Create data sets for defaults and non-defaults\n",
    "    nondefaults = X_y_train.query(f'{y_name} == 0')\n",
    "    defaults = X_y_train.query(f'{y_name} == 1')\n",
    "\n",
    "\n",
    "    # Undersample the non-defaults\n",
    "    nondefaults_under = nondefaults.sample(count_default)\n",
    "\n",
    "    # Concatenate the undersampled nondefaults with defaults\n",
    "    X_y_train_under = pd.concat([nondefaults_under.reset_index(drop=True), defaults.reset_index(drop=True)], axis = 0)\n",
    "\n",
    "    # Print the value counts for loan status\n",
    "    #print(X_y_train_under['loan_status'].value_counts())\n",
    "\n",
    "    X_train_resampled = X_y_train_under.drop(y_name, axis=1)\n",
    "    y_train_resampled  = X_y_train_under[[y_name]]\n",
    "    \n",
    "    return X_train_resampled, y_train_resampled"
   ]
  },
  {
   "cell_type": "code",
   "execution_count": 14,
   "id": "f4b7b12d",
   "metadata": {},
   "outputs": [],
   "source": [
    "# Undersampe\n",
    "X_train, y_train = Undersampling_Data(X_train, y_train, 'loan_status')"
   ]
  },
  {
   "cell_type": "code",
   "execution_count": 15,
   "id": "6565a652",
   "metadata": {},
   "outputs": [],
   "source": [
    "##########################################################\n",
    "##########################################################\n",
    "#%% XGBoost with label encoding and undersample \n",
    "##########################################################\n",
    "##########################################################"
   ]
  },
  {
   "cell_type": "code",
   "execution_count": 16,
   "id": "9cd2a9ed",
   "metadata": {},
   "outputs": [
    {
     "name": "stdout",
     "output_type": "stream",
     "text": [
      "Fitting 5 folds for each of 50 candidates, totalling 250 fits\n",
      "Best parameters found:  {'subsample': 1.0, 'reg_lambda': 0.01, 'n_estimators': 500, 'min_child_weight': 0.01, 'max_depth': 5, 'learning_rate': 0.1, 'gamma': 1.5, 'colsample_bytree': 0.7}\n"
     ]
    }
   ],
   "source": [
    "# Define parameters set\n",
    "xgboost_param_grid = {\n",
    "                  'n_estimators': [  200, 250,  300, 350, 400, 450, 500],\n",
    "                  'max_depth': range(2, 9),\n",
    "                  'subsample': [0.6, 0.7, 0.8, 0.9, 1.0],\n",
    "                  'colsample_bytree': [0.3, 0.5, 0.7, 0.9, 1.0],\n",
    "                  'learning_rate': [ 0.01, 0.05, 0.1, 0.3, 0.5, 0.7],\n",
    "                  'gamma': [0, 0.25, 0.5, 1.0, 1.5, 2.0, 2.5],\n",
    "                  'reg_lambda': [0.01, 0.05, 0.1, 0.3, 0.5, 0.75, 1.0],\n",
    "                  'min_child_weight':[0.01, 0.05, 0.1, 1, 3]\n",
    "                 }\n",
    "\n",
    "# Instantiate model\n",
    "model_xgboost_init = xgb.XGBClassifier()\n",
    "\n",
    "## in case of GridSeach:  param_grid no param_distributions\n",
    "\n",
    "# Perform random search with CV for time series\n",
    "\n",
    "# roc_auc, recall, f1_macro\n",
    "model_xgboost_random_search = RandomizedSearchCV(param_distributions = xgboost_param_grid,\n",
    "                                                  estimator = model_xgboost_init,\n",
    "                                                  scoring = 'roc_auc',\n",
    "                                                  n_iter = 50,\n",
    "                                                  cv = 5,\n",
    "                                                  verbose=1,\n",
    "                                                  n_jobs=-1)\n",
    "\n",
    "## in case of GridSeach:  param_grid no param_distributions\n",
    "\n",
    "# Fit randomized_mse to the data\n",
    "model_xgboost_random_search.fit(X_train, np.ravel(y_train))\n",
    "\n",
    "# Print the best parameters\n",
    "print(\"Best parameters found: \", model_xgboost_random_search.best_params_)"
   ]
  },
  {
   "cell_type": "code",
   "execution_count": 17,
   "id": "65a427b9",
   "metadata": {},
   "outputs": [],
   "source": [
    "# Extract the best model\n",
    "model_xgboost = model_xgboost_random_search.best_estimator_"
   ]
  },
  {
   "cell_type": "code",
   "execution_count": 18,
   "id": "5cf01d77",
   "metadata": {},
   "outputs": [],
   "source": [
    "##########################################################\n",
    "#%% Test set - model evaluation\n",
    "##########################################################"
   ]
  },
  {
   "cell_type": "code",
   "execution_count": 19,
   "id": "782365ce",
   "metadata": {},
   "outputs": [],
   "source": [
    "preds_proba_xgboost = model_xgboost.predict_proba(X_test)"
   ]
  },
  {
   "cell_type": "code",
   "execution_count": 20,
   "id": "f5ec4e3e",
   "metadata": {},
   "outputs": [
    {
     "name": "stdout",
     "output_type": "stream",
     "text": [
      "              precision    recall  f1-score   support\n",
      "\n",
      " Non-Default       0.95      0.93      0.94      4971\n",
      "     Default       0.76      0.83      0.79      1365\n",
      "\n",
      "    accuracy                           0.91      6336\n",
      "   macro avg       0.86      0.88      0.87      6336\n",
      "weighted avg       0.91      0.91      0.91      6336\n",
      "\n",
      "\n",
      "AUC score:   0.95\n",
      "\n",
      "Confusion Matrix:\n"
     ]
    },
    {
     "data": {
      "image/png": "[encoded data removed]",
      "text/plain": [
       "<Figure size 432x288 with 2 Axes>"
      ]
     },
     "metadata": {
      "needs_background": "light"
     },
     "output_type": "display_data"
    }
   ],
   "source": [
    "# Create a dataframe for the probabilities of default\n",
    "preds_df_xgboost = pd.DataFrame(preds_proba_xgboost[:,1], columns = ['prob_default'])\n",
    "\n",
    "# Reassign loan status based on the threshold\n",
    "preds_df_xgboost['loan_status'] = preds_df_xgboost['prob_default'].apply(lambda x: 1 if x > 0.5 else 0)\n",
    "\n",
    "# Print the classification report\n",
    "target_names = ['Non-Default', 'Default']\n",
    "print(classification_report(y_test, preds_df_xgboost['loan_status'], target_names=target_names))\n",
    "\n",
    "### AUC score\n",
    "print('')\n",
    "print('AUC score:   ' + str(round(roc_auc_score(y_test, preds_df_xgboost['prob_default']), 3) ) )\n",
    "\n",
    "### Confusion Matrix\n",
    "print('')\n",
    "print('Confusion Matrix:')\n",
    "plot_confusion_matrix(y_test, preds_df_xgboost['loan_status'], model_xgboost, target_names)"
   ]
  },
  {
   "cell_type": "code",
   "execution_count": 21,
   "id": "4802e9f1",
   "metadata": {},
   "outputs": [],
   "source": [
    "##########################################################\n",
    "##########################################################\n",
    "#%% XGBoost with label encoding and SMOTE oversampling \n",
    "##########################################################\n",
    "##########################################################"
   ]
  },
  {
   "cell_type": "code",
   "execution_count": 22,
   "id": "154e7922",
   "metadata": {},
   "outputs": [],
   "source": [
    "# Oversampe with SMOTE\n",
    "from imblearn.over_sampling import SMOTE\n",
    "from imblearn.combine import SMOTEENN, SMOTETomek\n",
    "\n",
    "#oversample = SMOTETomek()\n",
    "\n",
    "X_smote_train, X_smote_test, y_smote_train, y_smote_test = train_test_split(X, y, test_size=0.2, stratify=y)\n",
    "X_smote_train, y_smote_train =  SMOTE().fit_resample(X_smote_train, y_smote_train)"
   ]
  },
  {
   "cell_type": "code",
   "execution_count": 23,
   "id": "82ba1c37",
   "metadata": {},
   "outputs": [
    {
     "name": "stdout",
     "output_type": "stream",
     "text": [
      "Fitting 5 folds for each of 50 candidates, totalling 250 fits\n",
      "Best parameters found:  {'subsample': 0.8, 'reg_lambda': 0.01, 'n_estimators': 500, 'min_child_weight': 0.05, 'max_depth': 8, 'learning_rate': 0.05, 'gamma': 1.0, 'colsample_bytree': 0.9}\n"
     ]
    }
   ],
   "source": [
    "model_xgboost_init_smote = xgb.XGBClassifier()\n",
    "\n",
    "\n",
    "model_xgboost_random_search_smote = RandomizedSearchCV(param_distributions = xgboost_param_grid,\n",
    "                                                       estimator = model_xgboost_init_smote,\n",
    "                                                       scoring = 'roc_auc',\n",
    "                                                       n_iter = 50,\n",
    "                                                       cv = 5,\n",
    "                                                       verbose=1,\n",
    "                                                       n_jobs=-1)\n",
    "\n",
    "## in case of GridSeach:  param_grid no param_distributions\n",
    "\n",
    "# Fit randomized_mse to the data\n",
    "model_xgboost_random_search_smote.fit(X_smote_train, np.ravel(y_smote_train))\n",
    "\n",
    "# Print the best parameters\n",
    "print(\"Best parameters found: \", model_xgboost_random_search_smote.best_params_)"
   ]
  },
  {
   "cell_type": "code",
   "execution_count": 24,
   "id": "f5e38936",
   "metadata": {},
   "outputs": [],
   "source": [
    "# Extract the best model\n",
    "model_xgboost_smote = model_xgboost_random_search_smote.best_estimator_"
   ]
  },
  {
   "cell_type": "code",
   "execution_count": 25,
   "id": "4a89e2ae",
   "metadata": {},
   "outputs": [],
   "source": [
    "##########################################################\n",
    "#%% Test set - model evaluation\n",
    "##########################################################"
   ]
  },
  {
   "cell_type": "code",
   "execution_count": 26,
   "id": "be2a7784",
   "metadata": {},
   "outputs": [],
   "source": [
    "preds_proba_xgboost_smote = model_xgboost_smote.predict_proba(X_smote_test)"
   ]
  },
  {
   "cell_type": "code",
   "execution_count": 27,
   "id": "0b0b13c8",
   "metadata": {},
   "outputs": [
    {
     "name": "stdout",
     "output_type": "stream",
     "text": [
      "              precision    recall  f1-score   support\n",
      "\n",
      " Non-Default       0.94      0.96      0.95      4971\n",
      "     Default       0.83      0.77      0.80      1365\n",
      "\n",
      "    accuracy                           0.92      6336\n",
      "   macro avg       0.89      0.87      0.88      6336\n",
      "weighted avg       0.92      0.92      0.92      6336\n",
      "\n",
      "\n",
      "AUC score:   0.94\n",
      "\n",
      "Confusion Matrix:\n"
     ]
    },
    {
     "data": {
      "image/png": "[encoded data removed]",
      "text/plain": [
       "<Figure size 432x288 with 2 Axes>"
      ]
     },
     "metadata": {
      "needs_background": "light"
     },
     "output_type": "display_data"
    }
   ],
   "source": [
    "# Create a dataframe for the probabilities of default\n",
    "preds_df_xgboost_smote  = pd.DataFrame(preds_proba_xgboost_smote[:,1], columns = ['prob_default'])\n",
    "\n",
    "# Reassign loan status based on the threshold\n",
    "preds_df_xgboost_smote['loan_status'] = preds_df_xgboost_smote['prob_default'].apply(lambda x: 1 if x > 0.5 else 0)\n",
    "\n",
    "# Print the classification report\n",
    "target_names = ['Non-Default', 'Default']\n",
    "print(classification_report(y_smote_test, preds_df_xgboost_smote['loan_status'], target_names=target_names))\n",
    "\n",
    "### AUC score\n",
    "print('')\n",
    "print('AUC score:   ' + str(round(roc_auc_score(y_smote_test, preds_df_xgboost_smote['prob_default']), 3) ) )\n",
    "\n",
    "### Confusion Matrix\n",
    "print('')\n",
    "print('Confusion Matrix:')\n",
    "plot_confusion_matrix(y_smote_test, preds_df_xgboost_smote['loan_status'], model_xgboost_smote, target_names)"
   ]
  },
  {
   "cell_type": "code",
   "execution_count": 28,
   "id": "211945e9",
   "metadata": {},
   "outputs": [],
   "source": [
    "##########################################################\n",
    "##########################################################\n",
    "#%% XGBoost with label encoding and SMOTEeen oversampling \n",
    "##########################################################\n",
    "##########################################################"
   ]
  },
  {
   "cell_type": "code",
   "execution_count": 29,
   "id": "007772ae",
   "metadata": {},
   "outputs": [],
   "source": [
    "# Oversampe with SMOTE\n",
    "from imblearn.combine import SMOTEENN, SMOTETomek\n",
    "\n",
    "#oversample = SMOTETomek()\n",
    "\n",
    "X_smote_02_train, X_smote_02_test, y_smote_02_train, y_smote_02_test = train_test_split(X, y, test_size=0.2, stratify=y)\n",
    "X_smote_02_train, y_smote_02_train =  SMOTETomek().fit_resample(X_smote_02_train, y_smote_02_train)"
   ]
  },
  {
   "cell_type": "code",
   "execution_count": 30,
   "id": "b71b77a1",
   "metadata": {},
   "outputs": [
    {
     "name": "stdout",
     "output_type": "stream",
     "text": [
      "Fitting 5 folds for each of 50 candidates, totalling 250 fits\n",
      "Best parameters found:  {'subsample': 1.0, 'reg_lambda': 0.75, 'n_estimators': 500, 'min_child_weight': 0.1, 'max_depth': 5, 'learning_rate': 0.5, 'gamma': 0, 'colsample_bytree': 0.9}\n"
     ]
    }
   ],
   "source": [
    "model_xgboost_init_smote_02 = xgb.XGBClassifier()\n",
    "\n",
    "\n",
    "model_xgboost_random_search_smote_02 = RandomizedSearchCV(param_distributions = xgboost_param_grid,\n",
    "                                                          estimator = model_xgboost_init_smote_02,\n",
    "                                                          scoring = 'roc_auc',\n",
    "                                                          n_iter = 50,\n",
    "                                                          cv = 5,\n",
    "                                                          verbose=1,\n",
    "                                                          n_jobs=-1)\n",
    "\n",
    "## in case of GridSeach:  param_grid no param_distributions\n",
    "\n",
    "# Fit randomized_mse to the data\n",
    "model_xgboost_random_search_smote_02.fit(X_smote_02_train, np.ravel(y_smote_02_train))\n",
    "\n",
    "# Print the best parameters\n",
    "print(\"Best parameters found: \", model_xgboost_random_search_smote_02.best_params_)"
   ]
  },
  {
   "cell_type": "code",
   "execution_count": 31,
   "id": "231b9126",
   "metadata": {},
   "outputs": [],
   "source": [
    "# Extract the best model\n",
    "model_xgboost_smote_02 = model_xgboost_random_search_smote_02.best_estimator_"
   ]
  },
  {
   "cell_type": "code",
   "execution_count": 32,
   "id": "503add80",
   "metadata": {},
   "outputs": [],
   "source": [
    "##########################################################\n",
    "#%% Test set - model evaluation\n",
    "##########################################################"
   ]
  },
  {
   "cell_type": "code",
   "execution_count": 33,
   "id": "b7c03daf",
   "metadata": {},
   "outputs": [],
   "source": [
    "preds_proba_xgboost_smote_02 = model_xgboost_smote_02.predict_proba(X_smote_02_test)"
   ]
  },
  {
   "cell_type": "code",
   "execution_count": 34,
   "id": "8c1844f8",
   "metadata": {},
   "outputs": [
    {
     "name": "stdout",
     "output_type": "stream",
     "text": [
      "              precision    recall  f1-score   support\n",
      "\n",
      " Non-Default       0.94      0.95      0.94      4971\n",
      "     Default       0.80      0.78      0.79      1365\n",
      "\n",
      "    accuracy                           0.91      6336\n",
      "   macro avg       0.87      0.87      0.87      6336\n",
      "weighted avg       0.91      0.91      0.91      6336\n",
      "\n",
      "\n",
      "AUC score:   0.938\n",
      "\n",
      "Confusion Matrix:\n"
     ]
    },
    {
     "data": {
      "image/png": "[encoded data removed]",
      "text/plain": [
       "<Figure size 432x288 with 2 Axes>"
      ]
     },
     "metadata": {
      "needs_background": "light"
     },
     "output_type": "display_data"
    }
   ],
   "source": [
    "# Create a dataframe for the probabilities of default\n",
    "preds_df_xgboost_smote_02  = pd.DataFrame(preds_proba_xgboost_smote_02[:,1], columns = ['prob_default'])\n",
    "\n",
    "# Reassign loan status based on the threshold\n",
    "preds_df_xgboost_smote_02['loan_status'] = preds_df_xgboost_smote_02['prob_default'].apply(lambda x: 1 if x > 0.5 else 0)\n",
    "\n",
    "# Print the classification report\n",
    "target_names = ['Non-Default', 'Default']\n",
    "print(classification_report(y_smote_02_test, preds_df_xgboost_smote_02['loan_status'], target_names=target_names))\n",
    "\n",
    "### AUC score\n",
    "print('')\n",
    "print('AUC score:   ' + str(round(roc_auc_score(y_smote_02_test, preds_df_xgboost_smote_02['prob_default']), 3) ) )\n",
    "\n",
    "### Confusion Matrix\n",
    "print('')\n",
    "print('Confusion Matrix:')\n",
    "plot_confusion_matrix(y_smote_02_test, preds_df_xgboost_smote_02['loan_status'], model_xgboost_smote_02, target_names)"
   ]
  },
  {
   "cell_type": "code",
   "execution_count": 35,
   "id": "532ebe85",
   "metadata": {},
   "outputs": [],
   "source": [
    "##########################################################\n",
    "##########################################################\n",
    "#%% COMPARE MODELS\n",
    "##########################################################\n",
    "##########################################################"
   ]
  },
  {
   "cell_type": "code",
   "execution_count": 36,
   "id": "a7bddcd4",
   "metadata": {},
   "outputs": [
    {
     "data": {
      "image/png": "[encoded data removed]",
      "text/plain": [
       "<Figure size 432x288 with 1 Axes>"
      ]
     },
     "metadata": {
      "needs_background": "light"
     },
     "output_type": "display_data"
    }
   ],
   "source": [
    "# ROC chart components\n",
    "fallout_xgboost, sensitivity_xgboost, thresholds_xgboost = roc_curve(y_test, preds_df_xgboost['prob_default'])\n",
    "fallout_xgboost_smote, sensitivity_xgboost_smote, thresholds_xgboost_smote = roc_curve(y_smote_test, preds_df_xgboost_smote['prob_default'])\n",
    "fallout_xgboost_smote_02, sensitivity_xgboost_smote_02, thresholds_xgboost_smote_02 = roc_curve(y_smote_02_test, preds_df_xgboost_smote_02['prob_default'])\n",
    "\n",
    "\n",
    "\n",
    "# ROC Chart with both\n",
    "plt.plot(fallout_xgboost, sensitivity_xgboost, color = 'green', label='%s' % 'XGBoost - undersampling')\n",
    "plt.plot(fallout_xgboost_smote, sensitivity_xgboost_smote, color = 'grey', label='%s' % 'XGBoost - smote')\n",
    "plt.plot(fallout_xgboost_smote_02, sensitivity_xgboost_smote_02, color = 'blue', label='%s' % 'XGBoost - SMOTETomek')\n",
    "\n",
    "\n",
    "plt.plot([0, 1], [0, 1], linestyle='--', label='%s' % 'Random Prediction')\n",
    "plt.title(\"ROC Chart on the Probability of Default\")\n",
    "plt.xlabel('Fall-out')\n",
    "plt.ylabel('Sensitivity')\n",
    "plt.legend()\n",
    "plt.show()"
   ]
  },
  {
   "cell_type": "code",
   "execution_count": 37,
   "id": "ab538dd0",
   "metadata": {},
   "outputs": [],
   "source": [
    "# Calibration curve"
   ]
  },
  {
   "cell_type": "code",
   "execution_count": 38,
   "id": "7e57ee71",
   "metadata": {},
   "outputs": [
    {
     "data": {
      "image/png": "[encoded data removed]",
      "text/plain": [
       "<Figure size 432x288 with 1 Axes>"
      ]
     },
     "metadata": {
      "needs_background": "light"
     },
     "output_type": "display_data"
    }
   ],
   "source": [
    "frac_of_pos_xgboost, mean_pred_val_xgboost = calibration_curve(y_test, preds_df_xgboost['prob_default'], n_bins=20)\n",
    "frac_of_pos_xgboost_smote, mean_pred_val_xgboost_smote = calibration_curve(y_smote_test, preds_df_xgboost_smote['prob_default'], n_bins=20)\n",
    "frac_of_pos_xgboost_smote_02, mean_pred_val_xgboost_smote_02 = calibration_curve(y_smote_02_test, preds_df_xgboost_smote_02['prob_default'], n_bins=20)\n",
    "\n",
    "\n",
    "plt.plot([0, 1], [0, 1], 'k:', label='Perfectly calibrated')    \n",
    "plt.plot(mean_pred_val_xgboost, frac_of_pos_xgboost, 's-', label='%s' % 'XGBoost - undersampling')\n",
    "plt.plot(mean_pred_val_xgboost_smote, frac_of_pos_xgboost_smote, 's-', label='%s' % 'XGBoost - SMOTE')\n",
    "plt.plot(mean_pred_val_xgboost_smote_02, frac_of_pos_xgboost_smote_02, 's-', label='%s' % 'XGBoost - SMOTETomek')\n",
    "\n",
    "\n",
    "plt.ylabel('Fraction of positives', fontsize=14)\n",
    "plt.xlabel('Average Predicted Probability', fontsize=14)\n",
    "plt.legend()\n",
    "plt.title('Calibration Curve', fontsize=16)\n",
    "plt.show()"
   ]
  }
 ],
 "metadata": {
  "kernelspec": {
   "display_name": "Python 3 (ipykernel)",
   "language": "python",
   "name": "python3"
  },
  "language_info": {
   "codemirror_mode": {
    "name": "ipython",
    "version": 3
   },
   "file_extension": ".py",
   "mimetype": "text/x-python",
   "name": "python",
   "nbconvert_exporter": "python",
   "pygments_lexer": "ipython3",
   "version": "3.8.8"
  }
 },
 "nbformat": 4,
 "nbformat_minor": 5
}
